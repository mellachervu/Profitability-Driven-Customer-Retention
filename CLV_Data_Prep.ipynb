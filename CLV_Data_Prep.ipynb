{
 "cells": [
  {
   "cell_type": "markdown",
   "metadata": {},
   "source": [
    "# Hands-on Lab --- Data Prep"
   ]
  },
  {
   "cell_type": "markdown",
   "metadata": {},
   "source": [
    "## Importing packages:"
   ]
  },
  {
   "cell_type": "code",
   "execution_count": 27,
   "metadata": {},
   "outputs": [],
   "source": [
    "import numpy as np\n",
    "import pandas as pd\n",
    "import sklearn as sk\n",
    "import matplotlib.pyplot as plt"
   ]
  },
  {
   "cell_type": "markdown",
   "metadata": {},
   "source": [
    "## Reading comma separated files into dataframes.\n",
    "## Change the path below to point to churn and margin data:"
   ]
  },
  {
   "cell_type": "code",
   "execution_count": 43,
   "metadata": {},
   "outputs": [],
   "source": [
    "churn_df = pd.read_csv('C:\\\\Business Analytics\\\\3rd Sem\\\\CLV\\\\Team Project\\\\Team Project\\\\TP_churn_data.csv')\n",
    "margin_df = pd.read_csv('C:\\\\Business Analytics\\\\3rd Sem\\\\CLV\\\\Team Project\\\\Team Project\\\\TP_margin_data.csv')\n",
    "demog_df=pd.read_sas('C:\\\\Business Analytics\\\\3rd Sem\\\\CLV\\\\Team Project\\\\Team Project\\\\demog_data_trans.sas7bdat')"
   ]
  },
  {
   "cell_type": "markdown",
   "metadata": {},
   "source": [
    "## Use the head method to view churn dataframe:"
   ]
  },
  {
   "cell_type": "code",
   "execution_count": 44,
   "metadata": {},
   "outputs": [
    {
     "data": {
      "text/html": [
       "<div>\n",
       "<style scoped>\n",
       "    .dataframe tbody tr th:only-of-type {\n",
       "        vertical-align: middle;\n",
       "    }\n",
       "\n",
       "    .dataframe tbody tr th {\n",
       "        vertical-align: top;\n",
       "    }\n",
       "\n",
       "    .dataframe thead th {\n",
       "        text-align: right;\n",
       "    }\n",
       "</style>\n",
       "<table border=\"1\" class=\"dataframe\">\n",
       "  <thead>\n",
       "    <tr style=\"text-align: right;\">\n",
       "      <th></th>\n",
       "      <th>ST</th>\n",
       "      <th>Zip</th>\n",
       "      <th>DMA</th>\n",
       "      <th>Area_Cd</th>\n",
       "      <th>emailable</th>\n",
       "      <th>solicit_ph_ind</th>\n",
       "      <th>solicit_email_ind</th>\n",
       "      <th>fixd_incm_flg</th>\n",
       "      <th>scheduled_purchase_flg</th>\n",
       "      <th>months_since_last_trans</th>\n",
       "      <th>...</th>\n",
       "      <th>resp_cnt_36mo</th>\n",
       "      <th>call_in_mo_36mo</th>\n",
       "      <th>call_out_mo_36mo</th>\n",
       "      <th>order_cnt_36mo</th>\n",
       "      <th>tier</th>\n",
       "      <th>tier_prev</th>\n",
       "      <th>acct_ID</th>\n",
       "      <th>activation_date</th>\n",
       "      <th>event_date</th>\n",
       "      <th>churn_year_plus1_ind</th>\n",
       "    </tr>\n",
       "  </thead>\n",
       "  <tbody>\n",
       "    <tr>\n",
       "      <th>0</th>\n",
       "      <td>SC</td>\n",
       "      <td>29607</td>\n",
       "      <td>567</td>\n",
       "      <td>864</td>\n",
       "      <td>1</td>\n",
       "      <td>1</td>\n",
       "      <td>1</td>\n",
       "      <td>0</td>\n",
       "      <td>0</td>\n",
       "      <td>3</td>\n",
       "      <td>...</td>\n",
       "      <td>0</td>\n",
       "      <td>0</td>\n",
       "      <td>1</td>\n",
       "      <td>1</td>\n",
       "      <td>1-Bronze</td>\n",
       "      <td>xxx</td>\n",
       "      <td>I148760611</td>\n",
       "      <td>30NOV12</td>\n",
       "      <td>31MAY15</td>\n",
       "      <td>1</td>\n",
       "    </tr>\n",
       "    <tr>\n",
       "      <th>1</th>\n",
       "      <td>MO</td>\n",
       "      <td>63901</td>\n",
       "      <td>632</td>\n",
       "      <td>573</td>\n",
       "      <td>1</td>\n",
       "      <td>1</td>\n",
       "      <td>1</td>\n",
       "      <td>0</td>\n",
       "      <td>0</td>\n",
       "      <td>9</td>\n",
       "      <td>...</td>\n",
       "      <td>0</td>\n",
       "      <td>1</td>\n",
       "      <td>0</td>\n",
       "      <td>1</td>\n",
       "      <td>1-Bronze</td>\n",
       "      <td>xxx</td>\n",
       "      <td>I151076142</td>\n",
       "      <td>29NOV13</td>\n",
       "      <td>29NOV14</td>\n",
       "      <td>1</td>\n",
       "    </tr>\n",
       "    <tr>\n",
       "      <th>2</th>\n",
       "      <td>IL</td>\n",
       "      <td>60456</td>\n",
       "      <td>602</td>\n",
       "      <td>missing</td>\n",
       "      <td>0</td>\n",
       "      <td>1</td>\n",
       "      <td>1</td>\n",
       "      <td>0</td>\n",
       "      <td>0</td>\n",
       "      <td>1</td>\n",
       "      <td>...</td>\n",
       "      <td>2</td>\n",
       "      <td>0</td>\n",
       "      <td>0</td>\n",
       "      <td>4</td>\n",
       "      <td>1-Bronze</td>\n",
       "      <td>xxx</td>\n",
       "      <td>I27001315</td>\n",
       "      <td>05OCT00</td>\n",
       "      <td>NaN</td>\n",
       "      <td>0</td>\n",
       "    </tr>\n",
       "    <tr>\n",
       "      <th>3</th>\n",
       "      <td>FL</td>\n",
       "      <td>34698</td>\n",
       "      <td>539</td>\n",
       "      <td>727</td>\n",
       "      <td>1</td>\n",
       "      <td>1</td>\n",
       "      <td>1</td>\n",
       "      <td>0</td>\n",
       "      <td>0</td>\n",
       "      <td>9</td>\n",
       "      <td>...</td>\n",
       "      <td>0</td>\n",
       "      <td>1</td>\n",
       "      <td>1</td>\n",
       "      <td>3</td>\n",
       "      <td>3-Gold</td>\n",
       "      <td>xxx</td>\n",
       "      <td>I150064127</td>\n",
       "      <td>31JUL13</td>\n",
       "      <td>29NOV14</td>\n",
       "      <td>1</td>\n",
       "    </tr>\n",
       "    <tr>\n",
       "      <th>4</th>\n",
       "      <td>CA</td>\n",
       "      <td>92084</td>\n",
       "      <td>825</td>\n",
       "      <td>760</td>\n",
       "      <td>0</td>\n",
       "      <td>1</td>\n",
       "      <td>1</td>\n",
       "      <td>0</td>\n",
       "      <td>0</td>\n",
       "      <td>1</td>\n",
       "      <td>...</td>\n",
       "      <td>0</td>\n",
       "      <td>0</td>\n",
       "      <td>0</td>\n",
       "      <td>2</td>\n",
       "      <td>1-Bronze</td>\n",
       "      <td>xxx</td>\n",
       "      <td>I152631565</td>\n",
       "      <td>30JUN14</td>\n",
       "      <td>NaN</td>\n",
       "      <td>0</td>\n",
       "    </tr>\n",
       "  </tbody>\n",
       "</table>\n",
       "<p>5 rows × 31 columns</p>\n",
       "</div>"
      ],
      "text/plain": [
       "   ST    Zip  DMA  Area_Cd  emailable  solicit_ph_ind  solicit_email_ind  \\\n",
       "0  SC  29607  567      864          1               1                  1   \n",
       "1  MO  63901  632      573          1               1                  1   \n",
       "2  IL  60456  602  missing          0               1                  1   \n",
       "3  FL  34698  539      727          1               1                  1   \n",
       "4  CA  92084  825      760          0               1                  1   \n",
       "\n",
       "   fixd_incm_flg  scheduled_purchase_flg  months_since_last_trans  \\\n",
       "0              0                       0                        3   \n",
       "1              0                       0                        9   \n",
       "2              0                       0                        1   \n",
       "3              0                       0                        9   \n",
       "4              0                       0                        1   \n",
       "\n",
       "           ...           resp_cnt_36mo  call_in_mo_36mo  call_out_mo_36mo  \\\n",
       "0          ...                       0                0                 1   \n",
       "1          ...                       0                1                 0   \n",
       "2          ...                       2                0                 0   \n",
       "3          ...                       0                1                 1   \n",
       "4          ...                       0                0                 0   \n",
       "\n",
       "   order_cnt_36mo      tier  tier_prev     acct_ID  activation_date  \\\n",
       "0               1  1-Bronze        xxx  I148760611          30NOV12   \n",
       "1               1  1-Bronze        xxx  I151076142          29NOV13   \n",
       "2               4  1-Bronze        xxx   I27001315          05OCT00   \n",
       "3               3    3-Gold        xxx  I150064127          31JUL13   \n",
       "4               2  1-Bronze        xxx  I152631565          30JUN14   \n",
       "\n",
       "   event_date  churn_year_plus1_ind  \n",
       "0     31MAY15                     1  \n",
       "1     29NOV14                     1  \n",
       "2         NaN                     0  \n",
       "3     29NOV14                     1  \n",
       "4         NaN                     0  \n",
       "\n",
       "[5 rows x 31 columns]"
      ]
     },
     "execution_count": 44,
     "metadata": {},
     "output_type": "execute_result"
    }
   ],
   "source": [
    "churn_df.head()"
   ]
  },
  {
   "cell_type": "markdown",
   "metadata": {},
   "source": [
    "## Use pandas describe method to see variable stats,\n",
    "##    and transpose to show variables as a list:"
   ]
  },
  {
   "cell_type": "code",
   "execution_count": 45,
   "metadata": {},
   "outputs": [
    {
     "name": "stdout",
     "output_type": "stream",
     "text": [
      " summary stats on churn data \n",
      "                           count  unique         top    freq      mean  \\\n",
      "ST                        240368      61          TX   21633       NaN   \n",
      "Zip                       240368   26124     missing     894       NaN   \n",
      "DMA                       240368     216         803    9721       NaN   \n",
      "Area_Cd                   240368     384     missing   13090       NaN   \n",
      "emailable                 240368     NaN         NaN     NaN  0.514931   \n",
      "solicit_ph_ind            240368     NaN         NaN     NaN  0.892619   \n",
      "solicit_email_ind         240368     NaN         NaN     NaN  0.964118   \n",
      "fixd_incm_flg             240368     NaN         NaN     NaN  0.092296   \n",
      "scheduled_purchase_flg    240368     NaN         NaN     NaN  0.259989   \n",
      "months_since_last_trans   240368     NaN         NaN     NaN   2.91555   \n",
      "months_since_first_trans  240368     NaN         NaN     NaN   65.4449   \n",
      "purch_cnt_life            240368     NaN         NaN     NaN   55.9365   \n",
      "purch_amt_life            240368     NaN         NaN     NaN   3334.91   \n",
      "purch_cnt_cc_36mo         240368     NaN         NaN     NaN   4.65299   \n",
      "purch_cnt_et_36mo         240368     NaN         NaN     NaN   3.98364   \n",
      "purch_cnt_ck_36mo         240368     NaN         NaN     NaN   10.5825   \n",
      "purch_cnt_tt_36mo         240368     NaN         NaN     NaN   19.2199   \n",
      "purch_amt_36mo            240368     NaN         NaN     NaN   1115.75   \n",
      "purch_avg_36mo            240368     NaN         NaN     NaN   67.0496   \n",
      "purch_avg_interval        240368     NaN         NaN     NaN   2.14305   \n",
      "mail_cnt_36mo             240368     NaN         NaN     NaN   19.0229   \n",
      "resp_cnt_36mo             240368     NaN         NaN     NaN   3.19369   \n",
      "call_in_mo_36mo           240368     NaN         NaN     NaN   7.76752   \n",
      "call_out_mo_36mo          240368     NaN         NaN     NaN   2.26707   \n",
      "order_cnt_36mo            240368     NaN         NaN     NaN    6.2503   \n",
      "tier                      240368       5    1-Bronze  154543       NaN   \n",
      "tier_prev                 240368       6         xxx  162512       NaN   \n",
      "acct_ID                   240368  239356  I152106951       3       NaN   \n",
      "activation_date           240368     208     06JUL00   17375       NaN   \n",
      "event_date                 63428      12     31JUL15    6908       NaN   \n",
      "churn_year_plus1_ind      240368     NaN         NaN     NaN  0.263879   \n",
      "\n",
      "                               std  min   25%     50%    75%         max  \n",
      "ST                             NaN  NaN   NaN     NaN    NaN         NaN  \n",
      "Zip                            NaN  NaN   NaN     NaN    NaN         NaN  \n",
      "DMA                            NaN  NaN   NaN     NaN    NaN         NaN  \n",
      "Area_Cd                        NaN  NaN   NaN     NaN    NaN         NaN  \n",
      "emailable                 0.499778    0     0       1      1           1  \n",
      "solicit_ph_ind            0.309598    0     1       1      1           1  \n",
      "solicit_email_ind         0.185998    0     1       1      1           1  \n",
      "fixd_incm_flg             0.289444    0     0       0      0           1  \n",
      "scheduled_purchase_flg    0.438629    0     0       0      1           1  \n",
      "months_since_last_trans    3.11112    1     1       1      4          12  \n",
      "months_since_first_trans    58.154    1    14      46    110         290  \n",
      "purch_cnt_life              75.658    1     8      26     73        2639  \n",
      "purch_amt_life             21698.8    0   220  800.96   2695  5.4987e+06  \n",
      "purch_cnt_cc_36mo          9.29977    0     0       0      4         189  \n",
      "purch_cnt_et_36mo          10.7138    0     0       0      0         157  \n",
      "purch_cnt_ck_36mo          14.3235    0     0       3     18         475  \n",
      "purch_cnt_tt_36mo          14.9998    0     6      16     33         475  \n",
      "purch_amt_36mo             5449.98    0   160     510   1055    1.22e+06  \n",
      "purch_avg_36mo             948.344   -1    20      25  46.52      305000  \n",
      "purch_avg_interval         4.89559   -1  0.99    1.09   1.92         168  \n",
      "mail_cnt_36mo               14.784    0     6      16     33         424  \n",
      "resp_cnt_36mo              6.99999    0     0       0      3         402  \n",
      "call_in_mo_36mo            47.3892    0     0       0      3        2670  \n",
      "call_out_mo_36mo           2.36621    0     1       2      3          38  \n",
      "order_cnt_36mo             9.82408    0     3       4      7         599  \n",
      "tier                           NaN  NaN   NaN     NaN    NaN         NaN  \n",
      "tier_prev                      NaN  NaN   NaN     NaN    NaN         NaN  \n",
      "acct_ID                        NaN  NaN   NaN     NaN    NaN         NaN  \n",
      "activation_date                NaN  NaN   NaN     NaN    NaN         NaN  \n",
      "event_date                     NaN  NaN   NaN     NaN    NaN         NaN  \n",
      "churn_year_plus1_ind      0.440735    0     0       0      1           1  \n"
     ]
    }
   ],
   "source": [
    "print(\" summary stats on churn data \") \n",
    "print(churn_df.describe(include='all').transpose())"
   ]
  },
  {
   "cell_type": "markdown",
   "metadata": {},
   "source": [
    "## Use head method to view margin dataframe:"
   ]
  },
  {
   "cell_type": "code",
   "execution_count": 46,
   "metadata": {},
   "outputs": [
    {
     "data": {
      "text/html": [
       "<div>\n",
       "<style scoped>\n",
       "    .dataframe tbody tr th:only-of-type {\n",
       "        vertical-align: middle;\n",
       "    }\n",
       "\n",
       "    .dataframe tbody tr th {\n",
       "        vertical-align: top;\n",
       "    }\n",
       "\n",
       "    .dataframe thead th {\n",
       "        text-align: right;\n",
       "    }\n",
       "</style>\n",
       "<table border=\"1\" class=\"dataframe\">\n",
       "  <thead>\n",
       "    <tr style=\"text-align: right;\">\n",
       "      <th></th>\n",
       "      <th>trans_amt_t_minus_00</th>\n",
       "      <th>trans_amt_t_minus_01</th>\n",
       "      <th>trans_amt_t_minus_02</th>\n",
       "      <th>trans_amt_t_minus_03</th>\n",
       "      <th>trans_amt_t_minus_04</th>\n",
       "      <th>trans_amt_t_minus_05</th>\n",
       "      <th>trans_amt_t_minus_06</th>\n",
       "      <th>trans_amt_t_minus_07</th>\n",
       "      <th>trans_amt_t_minus_08</th>\n",
       "      <th>trans_amt_t_minus_09</th>\n",
       "      <th>...</th>\n",
       "      <th>cost_amt_t_plus_04</th>\n",
       "      <th>cost_amt_t_plus_05</th>\n",
       "      <th>cost_amt_t_plus_06</th>\n",
       "      <th>cost_amt_t_plus_07</th>\n",
       "      <th>cost_amt_t_plus_08</th>\n",
       "      <th>cost_amt_t_plus_09</th>\n",
       "      <th>cost_amt_t_plus_10</th>\n",
       "      <th>cost_amt_t_plus_11</th>\n",
       "      <th>cost_amt_t_plus_12</th>\n",
       "      <th>acct_ID</th>\n",
       "    </tr>\n",
       "  </thead>\n",
       "  <tbody>\n",
       "    <tr>\n",
       "      <th>0</th>\n",
       "      <td>0.0</td>\n",
       "      <td>0.0</td>\n",
       "      <td>15.0</td>\n",
       "      <td>0.0</td>\n",
       "      <td>0.0</td>\n",
       "      <td>0.0</td>\n",
       "      <td>0.0</td>\n",
       "      <td>0.0</td>\n",
       "      <td>0.0</td>\n",
       "      <td>0.0</td>\n",
       "      <td>...</td>\n",
       "      <td>0.30</td>\n",
       "      <td>0.82</td>\n",
       "      <td>0.30</td>\n",
       "      <td>0.82</td>\n",
       "      <td>0.00</td>\n",
       "      <td>0.56</td>\n",
       "      <td>0.00</td>\n",
       "      <td>1.09</td>\n",
       "      <td>0.56</td>\n",
       "      <td>I148760611</td>\n",
       "    </tr>\n",
       "    <tr>\n",
       "      <th>1</th>\n",
       "      <td>0.0</td>\n",
       "      <td>0.0</td>\n",
       "      <td>0.0</td>\n",
       "      <td>0.0</td>\n",
       "      <td>0.0</td>\n",
       "      <td>0.0</td>\n",
       "      <td>0.0</td>\n",
       "      <td>0.0</td>\n",
       "      <td>20.0</td>\n",
       "      <td>0.0</td>\n",
       "      <td>...</td>\n",
       "      <td>0.26</td>\n",
       "      <td>0.00</td>\n",
       "      <td>0.00</td>\n",
       "      <td>0.00</td>\n",
       "      <td>0.00</td>\n",
       "      <td>0.00</td>\n",
       "      <td>0.00</td>\n",
       "      <td>0.00</td>\n",
       "      <td>0.00</td>\n",
       "      <td>I151076142</td>\n",
       "    </tr>\n",
       "    <tr>\n",
       "      <th>2</th>\n",
       "      <td>25.0</td>\n",
       "      <td>0.0</td>\n",
       "      <td>0.0</td>\n",
       "      <td>50.0</td>\n",
       "      <td>30.0</td>\n",
       "      <td>0.0</td>\n",
       "      <td>60.0</td>\n",
       "      <td>30.0</td>\n",
       "      <td>0.0</td>\n",
       "      <td>140.0</td>\n",
       "      <td>...</td>\n",
       "      <td>1.37</td>\n",
       "      <td>0.82</td>\n",
       "      <td>1.07</td>\n",
       "      <td>1.59</td>\n",
       "      <td>1.07</td>\n",
       "      <td>1.93</td>\n",
       "      <td>3.41</td>\n",
       "      <td>1.59</td>\n",
       "      <td>1.93</td>\n",
       "      <td>I27001315</td>\n",
       "    </tr>\n",
       "    <tr>\n",
       "      <th>3</th>\n",
       "      <td>0.0</td>\n",
       "      <td>0.0</td>\n",
       "      <td>0.0</td>\n",
       "      <td>0.0</td>\n",
       "      <td>0.0</td>\n",
       "      <td>0.0</td>\n",
       "      <td>0.0</td>\n",
       "      <td>0.0</td>\n",
       "      <td>84.0</td>\n",
       "      <td>84.0</td>\n",
       "      <td>...</td>\n",
       "      <td>0.00</td>\n",
       "      <td>0.00</td>\n",
       "      <td>0.30</td>\n",
       "      <td>0.00</td>\n",
       "      <td>0.00</td>\n",
       "      <td>0.00</td>\n",
       "      <td>0.00</td>\n",
       "      <td>0.00</td>\n",
       "      <td>0.30</td>\n",
       "      <td>I150064127</td>\n",
       "    </tr>\n",
       "    <tr>\n",
       "      <th>4</th>\n",
       "      <td>20.0</td>\n",
       "      <td>100.0</td>\n",
       "      <td>0.0</td>\n",
       "      <td>0.0</td>\n",
       "      <td>0.0</td>\n",
       "      <td>0.0</td>\n",
       "      <td>0.0</td>\n",
       "      <td>0.0</td>\n",
       "      <td>0.0</td>\n",
       "      <td>0.0</td>\n",
       "      <td>...</td>\n",
       "      <td>1.37</td>\n",
       "      <td>0.82</td>\n",
       "      <td>0.60</td>\n",
       "      <td>1.42</td>\n",
       "      <td>0.00</td>\n",
       "      <td>0.56</td>\n",
       "      <td>0.56</td>\n",
       "      <td>2.60</td>\n",
       "      <td>0.86</td>\n",
       "      <td>I152631565</td>\n",
       "    </tr>\n",
       "  </tbody>\n",
       "</table>\n",
       "<p>5 rows × 97 columns</p>\n",
       "</div>"
      ],
      "text/plain": [
       "   trans_amt_t_minus_00  trans_amt_t_minus_01  trans_amt_t_minus_02  \\\n",
       "0                   0.0                   0.0                  15.0   \n",
       "1                   0.0                   0.0                   0.0   \n",
       "2                  25.0                   0.0                   0.0   \n",
       "3                   0.0                   0.0                   0.0   \n",
       "4                  20.0                 100.0                   0.0   \n",
       "\n",
       "   trans_amt_t_minus_03  trans_amt_t_minus_04  trans_amt_t_minus_05  \\\n",
       "0                   0.0                   0.0                   0.0   \n",
       "1                   0.0                   0.0                   0.0   \n",
       "2                  50.0                  30.0                   0.0   \n",
       "3                   0.0                   0.0                   0.0   \n",
       "4                   0.0                   0.0                   0.0   \n",
       "\n",
       "   trans_amt_t_minus_06  trans_amt_t_minus_07  trans_amt_t_minus_08  \\\n",
       "0                   0.0                   0.0                   0.0   \n",
       "1                   0.0                   0.0                  20.0   \n",
       "2                  60.0                  30.0                   0.0   \n",
       "3                   0.0                   0.0                  84.0   \n",
       "4                   0.0                   0.0                   0.0   \n",
       "\n",
       "   trans_amt_t_minus_09     ...      cost_amt_t_plus_04  cost_amt_t_plus_05  \\\n",
       "0                   0.0     ...                    0.30                0.82   \n",
       "1                   0.0     ...                    0.26                0.00   \n",
       "2                 140.0     ...                    1.37                0.82   \n",
       "3                  84.0     ...                    0.00                0.00   \n",
       "4                   0.0     ...                    1.37                0.82   \n",
       "\n",
       "   cost_amt_t_plus_06  cost_amt_t_plus_07  cost_amt_t_plus_08  \\\n",
       "0                0.30                0.82                0.00   \n",
       "1                0.00                0.00                0.00   \n",
       "2                1.07                1.59                1.07   \n",
       "3                0.30                0.00                0.00   \n",
       "4                0.60                1.42                0.00   \n",
       "\n",
       "   cost_amt_t_plus_09  cost_amt_t_plus_10  cost_amt_t_plus_11  \\\n",
       "0                0.56                0.00                1.09   \n",
       "1                0.00                0.00                0.00   \n",
       "2                1.93                3.41                1.59   \n",
       "3                0.00                0.00                0.00   \n",
       "4                0.56                0.56                2.60   \n",
       "\n",
       "   cost_amt_t_plus_12     acct_ID  \n",
       "0                0.56  I148760611  \n",
       "1                0.00  I151076142  \n",
       "2                1.93   I27001315  \n",
       "3                0.30  I150064127  \n",
       "4                0.86  I152631565  \n",
       "\n",
       "[5 rows x 97 columns]"
      ]
     },
     "execution_count": 46,
     "metadata": {},
     "output_type": "execute_result"
    }
   ],
   "source": [
    "margin_df.head()"
   ]
  },
  {
   "cell_type": "markdown",
   "metadata": {},
   "source": [
    "## Use head method to view demographics dataframe:"
   ]
  },
  {
   "cell_type": "code",
   "execution_count": 47,
   "metadata": {},
   "outputs": [
    {
     "data": {
      "text/html": [
       "<div>\n",
       "<style scoped>\n",
       "    .dataframe tbody tr th:only-of-type {\n",
       "        vertical-align: middle;\n",
       "    }\n",
       "\n",
       "    .dataframe tbody tr th {\n",
       "        vertical-align: top;\n",
       "    }\n",
       "\n",
       "    .dataframe thead th {\n",
       "        text-align: right;\n",
       "    }\n",
       "</style>\n",
       "<table border=\"1\" class=\"dataframe\">\n",
       "  <thead>\n",
       "    <tr style=\"text-align: right;\">\n",
       "      <th></th>\n",
       "      <th>demog_assets</th>\n",
       "      <th>demog_LOR</th>\n",
       "      <th>demog_ownrent</th>\n",
       "      <th>demog_age</th>\n",
       "      <th>demog_span</th>\n",
       "      <th>demog_inc_fine</th>\n",
       "      <th>demog_inc_crs</th>\n",
       "      <th>demog_generations</th>\n",
       "      <th>demog_homevalue</th>\n",
       "      <th>demog_adults</th>\n",
       "      <th>acct_ID</th>\n",
       "      <th>demog_assets_num</th>\n",
       "      <th>demog_log_num</th>\n",
       "      <th>demog_ownrent_trans</th>\n",
       "      <th>demog_age_num</th>\n",
       "      <th>demog_inc_num</th>\n",
       "      <th>demog_homevalue_num</th>\n",
       "    </tr>\n",
       "  </thead>\n",
       "  <tbody>\n",
       "    <tr>\n",
       "      <th>0</th>\n",
       "      <td>b'IPA &lt;= 25000'</td>\n",
       "      <td>b'4th Year'</td>\n",
       "      <td>b'Definite Renter'</td>\n",
       "      <td>b'35-44 years old'</td>\n",
       "      <td>1.0</td>\n",
       "      <td>b'$  20000 - $  29999'</td>\n",
       "      <td>b'$  15000 - $  29999'</td>\n",
       "      <td>2.0</td>\n",
       "      <td>NaN</td>\n",
       "      <td>2.0</td>\n",
       "      <td>b'I148760611'</td>\n",
       "      <td>12500.0</td>\n",
       "      <td>48.0</td>\n",
       "      <td>b'DR'</td>\n",
       "      <td>40.0</td>\n",
       "      <td>25000.0</td>\n",
       "      <td>NaN</td>\n",
       "    </tr>\n",
       "    <tr>\n",
       "      <th>1</th>\n",
       "      <td>b'IPA &lt;= 25000'</td>\n",
       "      <td>b'13 - 18 Months'</td>\n",
       "      <td>NaN</td>\n",
       "      <td>b'35-44 years old'</td>\n",
       "      <td>0.0</td>\n",
       "      <td>NaN</td>\n",
       "      <td>NaN</td>\n",
       "      <td>1.0</td>\n",
       "      <td>NaN</td>\n",
       "      <td>1.0</td>\n",
       "      <td>b'I151076142'</td>\n",
       "      <td>12500.0</td>\n",
       "      <td>15.0</td>\n",
       "      <td>NaN</td>\n",
       "      <td>40.0</td>\n",
       "      <td>NaN</td>\n",
       "      <td>NaN</td>\n",
       "    </tr>\n",
       "    <tr>\n",
       "      <th>2</th>\n",
       "      <td>b'IPA &lt;= 25000'</td>\n",
       "      <td>b'11th Year'</td>\n",
       "      <td>NaN</td>\n",
       "      <td>b'55-64 years old'</td>\n",
       "      <td>0.0</td>\n",
       "      <td>b'Less than $15000'</td>\n",
       "      <td>b'Less than $15000'</td>\n",
       "      <td>1.0</td>\n",
       "      <td>NaN</td>\n",
       "      <td>1.0</td>\n",
       "      <td>b'I27001315'</td>\n",
       "      <td>12500.0</td>\n",
       "      <td>132.0</td>\n",
       "      <td>NaN</td>\n",
       "      <td>60.0</td>\n",
       "      <td>10000.0</td>\n",
       "      <td>NaN</td>\n",
       "    </tr>\n",
       "    <tr>\n",
       "      <th>3</th>\n",
       "      <td>b'250000 &lt; IPA &lt;= 500000'</td>\n",
       "      <td>b'3rd Year'</td>\n",
       "      <td>b'Definite Owner (any type dwelling unit)'</td>\n",
       "      <td>b'55-64 years old'</td>\n",
       "      <td>0.0</td>\n",
       "      <td>b'$  50000 - $  74999'</td>\n",
       "      <td>b'$  50000 - $  74999'</td>\n",
       "      <td>1.0</td>\n",
       "      <td>b'$150000 - $199999'</td>\n",
       "      <td>1.0</td>\n",
       "      <td>b'I150064127'</td>\n",
       "      <td>375000.0</td>\n",
       "      <td>36.0</td>\n",
       "      <td>b'DO'</td>\n",
       "      <td>60.0</td>\n",
       "      <td>62500.0</td>\n",
       "      <td>175000.0</td>\n",
       "    </tr>\n",
       "    <tr>\n",
       "      <th>4</th>\n",
       "      <td>b'250000 &lt; IPA &lt;= 500000'</td>\n",
       "      <td>b'9th Year'</td>\n",
       "      <td>b'Definite Owner (any type dwelling unit)'</td>\n",
       "      <td>b'45-54 years old'</td>\n",
       "      <td>0.0</td>\n",
       "      <td>b'$ 100000 - $124999'</td>\n",
       "      <td>b'$ 100000 - $149999'</td>\n",
       "      <td>2.0</td>\n",
       "      <td>b'$350000 - $399999'</td>\n",
       "      <td>3.0</td>\n",
       "      <td>b'I152631565'</td>\n",
       "      <td>375000.0</td>\n",
       "      <td>108.0</td>\n",
       "      <td>b'DO'</td>\n",
       "      <td>50.0</td>\n",
       "      <td>112500.0</td>\n",
       "      <td>375000.0</td>\n",
       "    </tr>\n",
       "  </tbody>\n",
       "</table>\n",
       "</div>"
      ],
      "text/plain": [
       "                demog_assets          demog_LOR  \\\n",
       "0            b'IPA <= 25000'        b'4th Year'   \n",
       "1            b'IPA <= 25000'  b'13 - 18 Months'   \n",
       "2            b'IPA <= 25000'       b'11th Year'   \n",
       "3  b'250000 < IPA <= 500000'        b'3rd Year'   \n",
       "4  b'250000 < IPA <= 500000'        b'9th Year'   \n",
       "\n",
       "                                demog_ownrent           demog_age  demog_span  \\\n",
       "0                          b'Definite Renter'  b'35-44 years old'         1.0   \n",
       "1                                         NaN  b'35-44 years old'         0.0   \n",
       "2                                         NaN  b'55-64 years old'         0.0   \n",
       "3  b'Definite Owner (any type dwelling unit)'  b'55-64 years old'         0.0   \n",
       "4  b'Definite Owner (any type dwelling unit)'  b'45-54 years old'         0.0   \n",
       "\n",
       "           demog_inc_fine           demog_inc_crs  demog_generations  \\\n",
       "0  b'$  20000 - $  29999'  b'$  15000 - $  29999'                2.0   \n",
       "1                     NaN                     NaN                1.0   \n",
       "2     b'Less than $15000'     b'Less than $15000'                1.0   \n",
       "3  b'$  50000 - $  74999'  b'$  50000 - $  74999'                1.0   \n",
       "4   b'$ 100000 - $124999'   b'$ 100000 - $149999'                2.0   \n",
       "\n",
       "        demog_homevalue  demog_adults        acct_ID  demog_assets_num  \\\n",
       "0                   NaN           2.0  b'I148760611'           12500.0   \n",
       "1                   NaN           1.0  b'I151076142'           12500.0   \n",
       "2                   NaN           1.0   b'I27001315'           12500.0   \n",
       "3  b'$150000 - $199999'           1.0  b'I150064127'          375000.0   \n",
       "4  b'$350000 - $399999'           3.0  b'I152631565'          375000.0   \n",
       "\n",
       "   demog_log_num demog_ownrent_trans  demog_age_num  demog_inc_num  \\\n",
       "0           48.0               b'DR'           40.0        25000.0   \n",
       "1           15.0                 NaN           40.0            NaN   \n",
       "2          132.0                 NaN           60.0        10000.0   \n",
       "3           36.0               b'DO'           60.0        62500.0   \n",
       "4          108.0               b'DO'           50.0       112500.0   \n",
       "\n",
       "   demog_homevalue_num  \n",
       "0                  NaN  \n",
       "1                  NaN  \n",
       "2                  NaN  \n",
       "3             175000.0  \n",
       "4             375000.0  "
      ]
     },
     "execution_count": 47,
     "metadata": {},
     "output_type": "execute_result"
    }
   ],
   "source": [
    "demog_df.head()"
   ]
  },
  {
   "cell_type": "markdown",
   "metadata": {},
   "source": [
    "## Dropping the original variables"
   ]
  },
  {
   "cell_type": "code",
   "execution_count": 48,
   "metadata": {},
   "outputs": [],
   "source": [
    "demog_df.drop(['demog_assets','demog_homevalue', 'demog_inc_fine', 'demog_inc_crs', 'demog_age', 'demog_ownrent','demog_LOR'],axis=1,inplace=True)"
   ]
  },
  {
   "cell_type": "code",
   "execution_count": 49,
   "metadata": {},
   "outputs": [
    {
     "data": {
      "text/plain": [
       "demog_span             float64\n",
       "demog_generations      float64\n",
       "demog_adults           float64\n",
       "acct_ID                 object\n",
       "demog_assets_num       float64\n",
       "demog_log_num          float64\n",
       "demog_ownrent_trans     object\n",
       "demog_age_num          float64\n",
       "demog_inc_num          float64\n",
       "demog_homevalue_num    float64\n",
       "dtype: object"
      ]
     },
     "execution_count": 49,
     "metadata": {},
     "output_type": "execute_result"
    }
   ],
   "source": [
    "demog_df.dtypes"
   ]
  },
  {
   "cell_type": "markdown",
   "metadata": {},
   "source": [
    "## Modify margin data to only have ANNUAL margin numbers,\n",
    "##    and print stats on the new margin dataframe:"
   ]
  },
  {
   "cell_type": "code",
   "execution_count": 50,
   "metadata": {},
   "outputs": [
    {
     "name": "stdout",
     "output_type": "stream",
     "text": [
      " summary stats on margin data \n",
      "                 count  unique         top freq     mean      std      min  \\\n",
      "acct_ID         240368  239356  I152106951    3      NaN      NaN      NaN   \n",
      "margin_Y_neg_1  240368     NaN         NaN  NaN   221.16  1529.89 -15084.3   \n",
      "margin_Y_neg_2  240368     NaN         NaN  NaN  188.612  1921.48 -21224.1   \n",
      "margin_Y_neg_3  240368     NaN         NaN  NaN  165.354  2129.31 -7515.94   \n",
      "margin_Y_pos_1  240368     NaN         NaN  NaN  353.597  2056.65 -3509.67   \n",
      "\n",
      "                 25%      50%      75%     max  \n",
      "acct_ID          NaN      NaN      NaN     NaN  \n",
      "margin_Y_neg_1  42.2  181.915   337.05  284605  \n",
      "margin_Y_neg_2     0   125.45  294.452  469878  \n",
      "margin_Y_neg_3     0   28.255    245.4  493368  \n",
      "margin_Y_pos_1 -2.21  159.395  332.002  399818  \n"
     ]
    }
   ],
   "source": [
    "margin_df['rev_Y_neg_1']=margin_df['trans_amt_t_minus_00']+margin_df['trans_amt_t_minus_01']+margin_df['trans_amt_t_minus_02']+margin_df['trans_amt_t_minus_03']+margin_df['trans_amt_t_minus_04']+margin_df['trans_amt_t_minus_05']+margin_df['trans_amt_t_minus_06']+margin_df['trans_amt_t_minus_07']+margin_df['trans_amt_t_minus_08']+margin_df['trans_amt_t_minus_09']+margin_df['trans_amt_t_minus_10']+margin_df['trans_amt_t_minus_11']\n",
    "margin_df['cost_Y_neg_1']=margin_df['cost_amt_t_minus_00']+margin_df['cost_amt_t_minus_01']+margin_df['cost_amt_t_minus_02']+margin_df['cost_amt_t_minus_03']+margin_df['cost_amt_t_minus_04']+margin_df['cost_amt_t_minus_05']+margin_df['cost_amt_t_minus_06']+margin_df['cost_amt_t_minus_07']+margin_df['cost_amt_t_minus_08']+margin_df['cost_amt_t_minus_09']+margin_df['cost_amt_t_minus_10']+margin_df['cost_amt_t_minus_11']\n",
    "margin_df['margin_Y_neg_1']=margin_df['rev_Y_neg_1']-margin_df['cost_Y_neg_1']\n",
    "\n",
    "margin_df['rev_Y_neg_2']=margin_df['trans_amt_t_minus_12']+margin_df['trans_amt_t_minus_13']+margin_df['trans_amt_t_minus_14']+margin_df['trans_amt_t_minus_15']+margin_df['trans_amt_t_minus_16']+margin_df['trans_amt_t_minus_17']+margin_df['trans_amt_t_minus_18']+margin_df['trans_amt_t_minus_19']+margin_df['trans_amt_t_minus_20']+margin_df['trans_amt_t_minus_21']+margin_df['trans_amt_t_minus_22']+margin_df['trans_amt_t_minus_23']\n",
    "margin_df['cost_Y_neg_2']=margin_df['cost_amt_t_minus_12']+margin_df['cost_amt_t_minus_13']+margin_df['cost_amt_t_minus_14']+margin_df['cost_amt_t_minus_15']+margin_df['cost_amt_t_minus_16']+margin_df['cost_amt_t_minus_17']+margin_df['cost_amt_t_minus_18']+margin_df['cost_amt_t_minus_19']+margin_df['cost_amt_t_minus_20']+margin_df['cost_amt_t_minus_21']+margin_df['cost_amt_t_minus_22']+margin_df['cost_amt_t_minus_23']\n",
    "margin_df['margin_Y_neg_2']=margin_df['rev_Y_neg_2']-margin_df['cost_Y_neg_2']\n",
    "\n",
    "margin_df['rev_Y_neg_3']=margin_df['trans_amt_t_minus_24']+margin_df['trans_amt_t_minus_25']+margin_df['trans_amt_t_minus_26']+margin_df['trans_amt_t_minus_27']+margin_df['trans_amt_t_minus_28']+margin_df['trans_amt_t_minus_29']+margin_df['trans_amt_t_minus_30']+margin_df['trans_amt_t_minus_31']+margin_df['trans_amt_t_minus_32']+margin_df['trans_amt_t_minus_33']+margin_df['trans_amt_t_minus_34']+margin_df['trans_amt_t_minus_35']\n",
    "margin_df['cost_Y_neg_3']=margin_df['cost_amt_t_minus_24']+margin_df['cost_amt_t_minus_25']+margin_df['cost_amt_t_minus_26']+margin_df['cost_amt_t_minus_27']+margin_df['cost_amt_t_minus_28']+margin_df['cost_amt_t_minus_29']+margin_df['cost_amt_t_minus_30']+margin_df['cost_amt_t_minus_31']+margin_df['cost_amt_t_minus_32']+margin_df['cost_amt_t_minus_33']+margin_df['cost_amt_t_minus_34']+margin_df['cost_amt_t_minus_35']\n",
    "margin_df['margin_Y_neg_3']=margin_df['rev_Y_neg_3']-margin_df['cost_Y_neg_3']\n",
    "\n",
    "margin_df['rev_Y_pos_1']=margin_df['trans_amt_t_plus_01']+margin_df['trans_amt_t_plus_02']+margin_df['trans_amt_t_plus_03']+margin_df['trans_amt_t_plus_04']+margin_df['trans_amt_t_plus_05']+margin_df['trans_amt_t_plus_06']+margin_df['trans_amt_t_plus_07']+margin_df['trans_amt_t_plus_08']+margin_df['trans_amt_t_plus_09']+margin_df['trans_amt_t_plus_10']+margin_df['trans_amt_t_plus_11']+margin_df['trans_amt_t_plus_12']\n",
    "margin_df['cost_Y_pos_1']=margin_df['cost_amt_t_plus_01']+margin_df['cost_amt_t_plus_02']+margin_df['cost_amt_t_plus_03']+margin_df['cost_amt_t_plus_04']+margin_df['cost_amt_t_plus_05']+margin_df['cost_amt_t_plus_06']+margin_df['cost_amt_t_plus_07']+margin_df['cost_amt_t_plus_08']+margin_df['cost_amt_t_plus_09']+margin_df['cost_amt_t_plus_10']+margin_df['cost_amt_t_plus_11']+margin_df['cost_amt_t_plus_12']\n",
    "margin_df['margin_Y_pos_1']=margin_df['rev_Y_pos_1']-margin_df['cost_Y_pos_1']\n",
    "\n",
    "margin_df = margin_df[['acct_ID','margin_Y_neg_1','margin_Y_neg_2','margin_Y_neg_3','margin_Y_pos_1']]\n",
    "\n",
    "print(\" summary stats on margin data \") \n",
    "print(margin_df.describe(include='all').transpose())"
   ]
  },
  {
   "cell_type": "markdown",
   "metadata": {},
   "source": [
    "## Create bar chart to explore churn rates by tiers:"
   ]
  },
  {
   "cell_type": "code",
   "execution_count": 51,
   "metadata": {},
   "outputs": [
    {
     "data": {
      "text/plain": [
       "<matplotlib.axes._subplots.AxesSubplot at 0x248be336160>"
      ]
     },
     "execution_count": 51,
     "metadata": {},
     "output_type": "execute_result"
    },
    {
     "data": {
      "image/png": "[encoded data removed]",
      "text/plain": [
       "<Figure size 432x288 with 1 Axes>"
      ]
     },
     "metadata": {
      "needs_background": "light"
     },
     "output_type": "display_data"
    }
   ],
   "source": [
    "temp_df = churn_df.groupby(['tier'])['churn_year_plus1_ind'].mean()\n",
    "temp_df.plot.bar(title=\"Churn Rate by Tiers\")"
   ]
  },
  {
   "cell_type": "markdown",
   "metadata": {},
   "source": [
    "## Create histogram to explore distribution of variables in churn data:"
   ]
  },
  {
   "cell_type": "code",
   "execution_count": 52,
   "metadata": {},
   "outputs": [
    {
     "data": {
      "text/plain": [
       "<matplotlib.axes._subplots.AxesSubplot at 0x248d25bb208>"
      ]
     },
     "execution_count": 52,
     "metadata": {},
     "output_type": "execute_result"
    },
    {
     "data": {
      "image/png": "[encoded data removed]",
      "text/plain": [
       "<Figure size 432x288 with 1 Axes>"
      ]
     },
     "metadata": {
      "needs_background": "light"
     },
     "output_type": "display_data"
    }
   ],
   "source": [
    "churn_df['purch_amt_life'].plot.hist(title=\"Distribution of Purchase Amount\",bins=50)"
   ]
  },
  {
   "cell_type": "markdown",
   "metadata": {},
   "source": [
    "## Create histogram to explore distribution of variables in margin data:"
   ]
  },
  {
   "cell_type": "code",
   "execution_count": 53,
   "metadata": {},
   "outputs": [
    {
     "data": {
      "text/plain": [
       "<matplotlib.axes._subplots.AxesSubplot at 0x2489bb2b4e0>"
      ]
     },
     "execution_count": 53,
     "metadata": {},
     "output_type": "execute_result"
    },
    {
     "data": {
      "image/png": "[encoded data removed]",
      "text/plain": [
       "<Figure size 432x288 with 1 Axes>"
      ]
     },
     "metadata": {
      "needs_background": "light"
     },
     "output_type": "display_data"
    }
   ],
   "source": [
    "temp_df = margin_df.query('-1000<margin_Y_neg_1<3000')\n",
    "temp_df['margin_Y_neg_1'].plot.hist(title=\"Distribution of Prior Year Margin\",bins=50)"
   ]
  },
  {
   "cell_type": "markdown",
   "metadata": {},
   "source": [
    "## Feature engineering on the Churn data:"
   ]
  },
  {
   "cell_type": "code",
   "execution_count": 54,
   "metadata": {},
   "outputs": [
    {
     "name": "stdout",
     "output_type": "stream",
     "text": [
      " summary stats on churn data \n",
      "                           count  unique         top    freq      mean  \\\n",
      "ST                        240368      61          TX   21633       NaN   \n",
      "Zip                       240368   26124     missing     894       NaN   \n",
      "DMA                       240368     216         803    9721       NaN   \n",
      "Area_Cd                   240368     384     missing   13090       NaN   \n",
      "emailable                 240368     NaN         NaN     NaN  0.514931   \n",
      "solicit_ph_ind            240368     NaN         NaN     NaN  0.892619   \n",
      "solicit_email_ind         240368     NaN         NaN     NaN  0.964118   \n",
      "fixd_incm_flg             240368     NaN         NaN     NaN  0.092296   \n",
      "scheduled_purchase_flg    240368     NaN         NaN     NaN  0.259989   \n",
      "months_since_last_trans   240368     NaN         NaN     NaN   2.91555   \n",
      "months_since_first_trans  240368     NaN         NaN     NaN   65.4449   \n",
      "purch_avg_interval        240368     NaN         NaN     NaN   4.93212   \n",
      "mail_cnt_36mo             240368     NaN         NaN     NaN   19.0229   \n",
      "call_in_mo_36mo           240368     NaN         NaN     NaN   7.76752   \n",
      "call_out_mo_36mo          240368     NaN         NaN     NaN   2.26707   \n",
      "tier                      240368       5    1-Bronze  154543       NaN   \n",
      "tier_prev                 240368       6         xxx  162512       NaN   \n",
      "acct_ID                   240368  239356  I152106951       3       NaN   \n",
      "activation_date           240368     208     06JUL00   17375       NaN   \n",
      "event_date                 63428      12     31JUL15    6908       NaN   \n",
      "churn_year_plus1_ind      240368     NaN         NaN     NaN  0.263879   \n",
      "log_order_cnt_36mo        240368     NaN         NaN     NaN  0.736524   \n",
      "log_purch_amt_36mo        240368     NaN         NaN     NaN   2.60279   \n",
      "log_purch_amt_life        240368     NaN         NaN     NaN   2.85898   \n",
      "log_purch_avg_36mo        240368     NaN         NaN     NaN   1.53985   \n",
      "log_purch_cnt_life        240368     NaN         NaN     NaN   1.39866   \n",
      "log_purch_cnt_tt_36mo     240368     NaN         NaN     NaN   1.14029   \n",
      "log_resp_cnt_36mo         240368     NaN         NaN     NaN  0.321359   \n",
      "perc_purch_cc_36mo        240368     NaN         NaN     NaN  0.307502   \n",
      "perc_purch_ck_36mo        240368     NaN         NaN     NaN  0.560083   \n",
      "perc_purch_et_36mo        240368     NaN         NaN     NaN  0.132326   \n",
      "\n",
      "                               std      min       25%       50%       75%  \\\n",
      "ST                             NaN      NaN       NaN       NaN       NaN   \n",
      "Zip                            NaN      NaN       NaN       NaN       NaN   \n",
      "DMA                            NaN      NaN       NaN       NaN       NaN   \n",
      "Area_Cd                        NaN      NaN       NaN       NaN       NaN   \n",
      "emailable                 0.499778        0         0         1         1   \n",
      "solicit_ph_ind            0.309598        0         1         1         1   \n",
      "solicit_email_ind         0.185998        0         1         1         1   \n",
      "fixd_incm_flg             0.289444        0         0         0         0   \n",
      "scheduled_purchase_flg    0.438629        0         0         0         1   \n",
      "months_since_last_trans    3.11112        1         1         1         4   \n",
      "months_since_first_trans    58.154        1        14        46       110   \n",
      "purch_avg_interval         10.0921        0         1      1.22      2.59   \n",
      "mail_cnt_36mo               14.784        0         6        16        33   \n",
      "call_in_mo_36mo            47.3892        0         0         0         3   \n",
      "call_out_mo_36mo           2.36621        0         1         2         3   \n",
      "tier                           NaN      NaN       NaN       NaN       NaN   \n",
      "tier_prev                      NaN      NaN       NaN       NaN       NaN   \n",
      "acct_ID                        NaN      NaN       NaN       NaN       NaN   \n",
      "activation_date                NaN      NaN       NaN       NaN       NaN   \n",
      "event_date                     NaN      NaN       NaN       NaN       NaN   \n",
      "churn_year_plus1_ind      0.440735        0         0         0         1   \n",
      "log_order_cnt_36mo        0.289364        0   0.60206   0.69897   0.90309   \n",
      "log_purch_amt_36mo        0.647434        0   2.20683   2.70842   3.02366   \n",
      "log_purch_amt_life        0.797593        0   2.34439   2.90415   3.43072   \n",
      "log_purch_avg_36mo        0.350007        0   1.32222   1.41497   1.67688   \n",
      "log_purch_cnt_life        0.604891  0.30103  0.954243   1.43136   1.86923   \n",
      "log_purch_cnt_tt_36mo     0.428746        0  0.845098   1.23045   1.53148   \n",
      "log_resp_cnt_36mo         0.448638        0         0         0   0.60206   \n",
      "perc_purch_cc_36mo        0.439354        0         0         0  0.928571   \n",
      "perc_purch_ck_36mo        0.469832        0         0  0.933333         1   \n",
      "perc_purch_et_36mo        0.322091        0         0         0         0   \n",
      "\n",
      "                              max  \n",
      "ST                            NaN  \n",
      "Zip                           NaN  \n",
      "DMA                           NaN  \n",
      "Area_Cd                       NaN  \n",
      "emailable                       1  \n",
      "solicit_ph_ind                  1  \n",
      "solicit_email_ind               1  \n",
      "fixd_incm_flg                   1  \n",
      "scheduled_purchase_flg          1  \n",
      "months_since_last_trans        12  \n",
      "months_since_first_trans      290  \n",
      "purch_avg_interval            168  \n",
      "mail_cnt_36mo                 424  \n",
      "call_in_mo_36mo              2670  \n",
      "call_out_mo_36mo               38  \n",
      "tier                          NaN  \n",
      "tier_prev                     NaN  \n",
      "acct_ID                       NaN  \n",
      "activation_date               NaN  \n",
      "event_date                    NaN  \n",
      "churn_year_plus1_ind            1  \n",
      "log_order_cnt_36mo        2.77815  \n",
      "log_purch_amt_36mo        6.08636  \n",
      "log_purch_amt_life        6.74026  \n",
      "log_purch_avg_36mo         5.4843  \n",
      "log_purch_cnt_life         3.4216  \n",
      "log_purch_cnt_tt_36mo     2.67761  \n",
      "log_resp_cnt_36mo         2.60531  \n",
      "perc_purch_cc_36mo              2  \n",
      "perc_purch_ck_36mo              2  \n",
      "perc_purch_et_36mo        1.08333  \n"
     ]
    }
   ],
   "source": [
    "\"\"\" when avg interval = -1 replace with 36 months \"\"\"\n",
    "churn_df['purch_avg_interval'].replace([-1], 36, inplace=True)\n",
    "\n",
    "\"\"\" when avg purchase = -1 replace with 0 \"\"\"\n",
    "churn_df['purch_avg_36mo'].replace([-1], 0, inplace=True)\n",
    "\n",
    "churn_df['log_order_cnt_36mo']=np.log10(churn_df['order_cnt_36mo']+1)\n",
    "churn_df['log_purch_amt_36mo']=np.log10(churn_df['purch_amt_36mo']+1)\n",
    "churn_df['log_purch_amt_life']=np.log10(churn_df['purch_amt_life']+1)\n",
    "churn_df['log_purch_avg_36mo']=np.log10(churn_df['purch_avg_36mo']+1)\n",
    "churn_df['log_purch_cnt_life']=np.log10(churn_df['purch_cnt_life']+1)\n",
    "churn_df['log_purch_cnt_tt_36mo']=np.log10(churn_df['purch_cnt_tt_36mo']+1)\n",
    "churn_df['log_resp_cnt_36mo']=np.log10(churn_df['resp_cnt_36mo']+1)\n",
    "\n",
    "churn_df['perc_purch_cc_36mo']=np.where(churn_df['purch_cnt_tt_36mo']==0,0,churn_df['purch_cnt_cc_36mo']/churn_df['purch_cnt_tt_36mo'])\n",
    "churn_df['perc_purch_ck_36mo']=np.where(churn_df['purch_cnt_tt_36mo']==0,0,churn_df['purch_cnt_ck_36mo']/churn_df['purch_cnt_tt_36mo'])\n",
    "churn_df['perc_purch_et_36mo']=np.where(churn_df['purch_cnt_tt_36mo']==0,0,churn_df['purch_cnt_et_36mo']/churn_df['purch_cnt_tt_36mo'])\n",
    "\n",
    "churn_df = churn_df.drop(['order_cnt_36mo','purch_amt_36mo','purch_amt_life','purch_avg_36mo','purch_cnt_life',\n",
    "                          'purch_cnt_tt_36mo','resp_cnt_36mo',\n",
    "                          'purch_cnt_cc_36mo','purch_cnt_ck_36mo','purch_cnt_et_36mo'],axis=1)\n",
    "\n",
    "print(\" summary stats on churn data \") \n",
    "print(churn_df.describe(include='all').transpose())"
   ]
  },
  {
   "cell_type": "markdown",
   "metadata": {},
   "source": [
    "## histogram plot on new log variable in Churn data"
   ]
  },
  {
   "cell_type": "code",
   "execution_count": 55,
   "metadata": {},
   "outputs": [
    {
     "data": {
      "text/plain": [
       "<matplotlib.axes._subplots.AxesSubplot at 0x2489bc98b70>"
      ]
     },
     "execution_count": 55,
     "metadata": {},
     "output_type": "execute_result"
    },
    {
     "data": {
      "image/png": "[encoded data removed]",
      "text/plain": [
       "<Figure size 432x288 with 1 Axes>"
      ]
     },
     "metadata": {
      "needs_background": "light"
     },
     "output_type": "display_data"
    }
   ],
   "source": [
    "churn_df['log_purch_amt_life'].plot.hist(title=\"Distribution of LOG of Purchase Amount\",bins=50)"
   ]
  },
  {
   "cell_type": "markdown",
   "metadata": {},
   "source": [
    "## Feature engineering on margin data, while keeping original variables.\n",
    "## Using logs with an offset that will account for very large negative margins:"
   ]
  },
  {
   "cell_type": "code",
   "execution_count": 56,
   "metadata": {},
   "outputs": [],
   "source": [
    "margin_df['margin_3yr_avg']=(margin_df['margin_Y_neg_1']+margin_df['margin_Y_neg_2']+margin_df['margin_Y_neg_3'])/3\n",
    "margin_df['log_margin_Y_neg_1']=np.log10(margin_df['margin_Y_neg_1']+50000)\n",
    "margin_df['log_margin_Y_neg_2']=np.log10(margin_df['margin_Y_neg_2']+50000)\n",
    "margin_df['log_margin_Y_neg_3']=np.log10(margin_df['margin_Y_neg_3']+50000)\n",
    "margin_df['log_margin_3yr_avg']=np.log10(margin_df['margin_3yr_avg']+50000)\n",
    "margin_df['log_margin_Y_pos_1']=np.log10(margin_df['margin_Y_pos_1']+50000)"
   ]
  },
  {
   "cell_type": "markdown",
   "metadata": {},
   "source": [
    "## Histogram on transformed target for Margin data"
   ]
  },
  {
   "cell_type": "code",
   "execution_count": 57,
   "metadata": {},
   "outputs": [
    {
     "data": {
      "text/plain": [
       "<matplotlib.axes._subplots.AxesSubplot at 0x2489bcbcef0>"
      ]
     },
     "execution_count": 57,
     "metadata": {},
     "output_type": "execute_result"
    },
    {
     "data": {
      "image/png": "[encoded data removed]",
      "text/plain": [
       "<Figure size 432x288 with 1 Axes>"
      ]
     },
     "metadata": {
      "needs_background": "light"
     },
     "output_type": "display_data"
    }
   ],
   "source": [
    "margin_df['log_margin_Y_pos_1'].plot.hist(title=\"Distribution of LOG of Future Margin\",bins=50)"
   ]
  },
  {
   "cell_type": "markdown",
   "metadata": {},
   "source": [
    "## Scatter plot on Future Margin vs Prior Margin (logarithms):"
   ]
  },
  {
   "cell_type": "code",
   "execution_count": 58,
   "metadata": {},
   "outputs": [
    {
     "name": "stdout",
     "output_type": "stream",
     "text": [
      " \n"
     ]
    },
    {
     "data": {
      "image/png": "[encoded data removed]",
      "text/plain": [
       "<Figure size 432x288 with 1 Axes>"
      ]
     },
     "metadata": {
      "needs_background": "light"
     },
     "output_type": "display_data"
    }
   ],
   "source": [
    "plt.scatter(margin_df['log_margin_3yr_avg'], margin_df['log_margin_Y_pos_1'])\n",
    "plt.xlabel(\"3-Year Average Margin (log)\")\n",
    "plt.ylabel(\"Future Year Margin (log)\")\n",
    "plt.title(\"Scatter Plot on Margin Data\")\n",
    "print(\" \") \n",
    "plt.show()"
   ]
  },
  {
   "cell_type": "markdown",
   "metadata": {},
   "source": [
    "## Imputation of Continuous variables with Median and Categorical variables with Mode in Demographics data\n"
   ]
  },
  {
   "cell_type": "code",
   "execution_count": 59,
   "metadata": {},
   "outputs": [],
   "source": [
    "demog_df['demog_ownrent_trans']=demog_df['demog_ownrent_trans'].fillna(demog_df['demog_ownrent_trans'].mode()[0])\n",
    "demog_df.fillna(demog_df.median(), inplace=True)"
   ]
  },
  {
   "cell_type": "markdown",
   "metadata": {},
   "source": [
    "## Eliminating duplicate acct_IDs before joining data:"
   ]
  },
  {
   "cell_type": "code",
   "execution_count": 60,
   "metadata": {},
   "outputs": [
    {
     "data": {
      "text/plain": [
       "(239356, 31)"
      ]
     },
     "execution_count": 60,
     "metadata": {},
     "output_type": "execute_result"
    }
   ],
   "source": [
    "churn_df.drop_duplicates(subset=['acct_ID'], keep='first', inplace=True)\n",
    "churn_df.shape"
   ]
  },
  {
   "cell_type": "code",
   "execution_count": 61,
   "metadata": {},
   "outputs": [
    {
     "data": {
      "text/plain": [
       "(239356, 11)"
      ]
     },
     "execution_count": 61,
     "metadata": {},
     "output_type": "execute_result"
    }
   ],
   "source": [
    "margin_df.drop_duplicates(subset=['acct_ID'], keep='first', inplace=True)\n",
    "margin_df.shape"
   ]
  },
  {
   "cell_type": "code",
   "execution_count": 62,
   "metadata": {},
   "outputs": [
    {
     "data": {
      "text/plain": [
       "(239356, 10)"
      ]
     },
     "execution_count": 62,
     "metadata": {},
     "output_type": "execute_result"
    }
   ],
   "source": [
    "demog_df.drop_duplicates(subset=['acct_ID'], keep='first', inplace=True)\n",
    "demog_df.shape"
   ]
  },
  {
   "cell_type": "markdown",
   "metadata": {},
   "source": [
    "## Join Churn and Margin data and demographics data by acct_ID:"
   ]
  },
  {
   "cell_type": "code",
   "execution_count": 63,
   "metadata": {},
   "outputs": [
    {
     "data": {
      "text/plain": [
       "(239356, 41)"
      ]
     },
     "execution_count": 63,
     "metadata": {},
     "output_type": "execute_result"
    }
   ],
   "source": [
    "combined_churn_margin = pd.merge(churn_df,margin_df, on='acct_ID', how='inner')\n",
    "combined_churn_margin.shape"
   ]
  },
  {
   "cell_type": "code",
   "execution_count": 64,
   "metadata": {},
   "outputs": [
    {
     "data": {
      "text/plain": [
       "(0, 50)"
      ]
     },
     "execution_count": 64,
     "metadata": {},
     "output_type": "execute_result"
    }
   ],
   "source": [
    "combined_df = pd.merge(combined_churn_margin,demog_df, on='acct_ID', how='inner')\n",
    "combined_df.shape"
   ]
  },
  {
   "cell_type": "markdown",
   "metadata": {},
   "source": [
    "## Create dummy variables for certain categorical variables."
   ]
  },
  {
   "cell_type": "code",
   "execution_count": 65,
   "metadata": {},
   "outputs": [
    {
     "name": "stdout",
     "output_type": "stream",
     "text": [
      " \n",
      "New dataset with dummies\n",
      " \n",
      "Empty DataFrame\n",
      "Columns: [ST, Zip, DMA, Area_Cd, emailable, solicit_ph_ind, solicit_email_ind, fixd_incm_flg, scheduled_purchase_flg, months_since_last_trans, months_since_first_trans, purch_avg_interval, mail_cnt_36mo, call_in_mo_36mo, call_out_mo_36mo, tier, tier_prev, acct_ID, activation_date, event_date, churn_year_plus1_ind, log_order_cnt_36mo, log_purch_amt_36mo, log_purch_amt_life, log_purch_avg_36mo, log_purch_cnt_life, log_purch_cnt_tt_36mo, log_resp_cnt_36mo, perc_purch_cc_36mo, perc_purch_ck_36mo, perc_purch_et_36mo, margin_Y_neg_1, margin_Y_neg_2, margin_Y_neg_3, margin_Y_pos_1, margin_3yr_avg, log_margin_Y_neg_1, log_margin_Y_neg_2, log_margin_Y_neg_3, log_margin_3yr_avg, log_margin_Y_pos_1, demog_span, demog_generations, demog_adults, demog_assets_num, demog_log_num, demog_ownrent_trans, demog_age_num, demog_inc_num, demog_homevalue_num]\n",
      "Index: []\n",
      "\n",
      "[0 rows x 50 columns]\n",
      " \n",
      "Columns in new data\n",
      " \n",
      "ST                           object\n",
      "Zip                          object\n",
      "DMA                          object\n",
      "Area_Cd                      object\n",
      "emailable                     int64\n",
      "solicit_ph_ind                int64\n",
      "solicit_email_ind             int64\n",
      "fixd_incm_flg                 int64\n",
      "scheduled_purchase_flg        int64\n",
      "months_since_last_trans       int64\n",
      "months_since_first_trans      int64\n",
      "purch_avg_interval          float64\n",
      "mail_cnt_36mo                 int64\n",
      "call_in_mo_36mo               int64\n",
      "call_out_mo_36mo              int64\n",
      "tier                         object\n",
      "tier_prev                    object\n",
      "acct_ID                      object\n",
      "activation_date              object\n",
      "event_date                   object\n",
      "churn_year_plus1_ind          int64\n",
      "log_order_cnt_36mo          float64\n",
      "log_purch_amt_36mo          float64\n",
      "log_purch_amt_life          float64\n",
      "log_purch_avg_36mo          float64\n",
      "log_purch_cnt_life          float64\n",
      "log_purch_cnt_tt_36mo       float64\n",
      "log_resp_cnt_36mo           float64\n",
      "perc_purch_cc_36mo          float64\n",
      "perc_purch_ck_36mo          float64\n",
      "perc_purch_et_36mo          float64\n",
      "margin_Y_neg_1              float64\n",
      "margin_Y_neg_2              float64\n",
      "margin_Y_neg_3              float64\n",
      "margin_Y_pos_1              float64\n",
      "margin_3yr_avg              float64\n",
      "log_margin_Y_neg_1          float64\n",
      "log_margin_Y_neg_2          float64\n",
      "log_margin_Y_neg_3          float64\n",
      "log_margin_3yr_avg          float64\n",
      "log_margin_Y_pos_1          float64\n",
      "demog_span                  float64\n",
      "demog_generations           float64\n",
      "demog_adults                float64\n",
      "demog_assets_num            float64\n",
      "demog_log_num               float64\n",
      "demog_ownrent_trans          object\n",
      "demog_age_num               float64\n",
      "demog_inc_num               float64\n",
      "demog_homevalue_num         float64\n",
      "dtype: object\n"
     ]
    }
   ],
   "source": [
    "\"\"\" WARNING: this commented-out approach would create dummy indicators for all \"\"\"\n",
    "\"\"\"    categorical variables, including those with very high cardinality, such as zip codes \"\"\"\n",
    "\"\"\"    and also would drop the original categorical variables and only keep the dummy indicators \"\"\"\n",
    "\n",
    "\"\"\" combined_df = pd.get_dummies(combined_df) \"\"\"\n",
    "\n",
    "\"\"\" this approach hand-picks only certain variables for which to create dummy indicators \"\"\"\n",
    "\"\"\" and keeps the original variables too \"\"\"\n",
    "\n",
    "for column in ['ST', 'tier', 'tier_prev','demog_ownrent_trans']:\n",
    "    dummies = pd.get_dummies(combined_df[column],prefix=column)\n",
    "    combined_df[dummies.columns] = dummies\n",
    "\n",
    "print(\" \") \n",
    "print(\"New dataset with dummies\") \n",
    "print(\" \") \n",
    "print(combined_df.head(10)) \n",
    "print(\" \") \n",
    "print(\"Columns in new data\")\n",
    "print(\" \") \n",
    "print(combined_df.dtypes)"
   ]
  },
  {
   "cell_type": "markdown",
   "metadata": {},
   "source": [
    "## export updated data as new csv file"
   ]
  },
  {
   "cell_type": "code",
   "execution_count": 67,
   "metadata": {},
   "outputs": [],
   "source": [
    "combined_df.to_csv('C:\\\\Business Analytics\\\\3rd Sem\\\\CLV\\\\Team Project\\\\combined_data.csv',index=False)"
   ]
  },
  {
   "cell_type": "code",
   "execution_count": null,
   "metadata": {},
   "outputs": [],
   "source": []
  }
 ],
 "metadata": {
  "kernelspec": {
   "display_name": "Python 3",
   "language": "python",
   "name": "python3"
  },
  "language_info": {
   "codemirror_mode": {
    "name": "ipython",
    "version": 3
   },
   "file_extension": ".py",
   "mimetype": "text/x-python",
   "name": "python",
   "nbconvert_exporter": "python",
   "pygments_lexer": "ipython3",
   "version": "3.7.0"
  }
 },
 "nbformat": 4,
 "nbformat_minor": 2
}
