{
 "cells": [
  {
   "cell_type": "markdown",
   "metadata": {},
   "source": [
    "# Hands-on Lab --- Churn Modeling"
   ]
  },
  {
   "cell_type": "markdown",
   "metadata": {},
   "source": [
    "## Importing some standard packages, as well as packages needed for modeling:"
   ]
  },
  {
   "cell_type": "code",
   "execution_count": 1,
   "metadata": {},
   "outputs": [
    {
     "name": "stderr",
     "output_type": "stream",
     "text": [
      "C:\\Users\\arunr\\Anaconda3\\lib\\site-packages\\sklearn\\ensemble\\weight_boosting.py:29: DeprecationWarning: numpy.core.umath_tests is an internal NumPy module and should not be imported. It will be removed in a future NumPy release.\n",
      "  from numpy.core.umath_tests import inner1d\n"
     ]
    }
   ],
   "source": [
    "import numpy as np\n",
    "import pandas as pd\n",
    "import sklearn as sk\n",
    "import matplotlib.pyplot as plt\n",
    "\n",
    "from sklearn.model_selection import train_test_split\n",
    "from sklearn.ensemble import (RandomForestRegressor, ExtraTreesRegressor, GradientBoostingRegressor,\n",
    "RandomForestClassifier, ExtraTreesClassifier, GradientBoostingClassifier, AdaBoostClassifier)\n",
    "from sklearn import linear_model\n",
    "from sklearn.metrics import mean_squared_error\n",
    "from sklearn import metrics\n",
    "\n",
    "from sklearn.feature_selection import SelectFromModel\n",
    "\n",
    "import statsmodels.api as sm"
   ]
  },
  {
   "cell_type": "markdown",
   "metadata": {},
   "source": [
    "## import modeling data created in the Data Prep pipeline"
   ]
  },
  {
   "cell_type": "code",
   "execution_count": 2,
   "metadata": {},
   "outputs": [],
   "source": [
    "combined_df = pd.read_csv('C:\\\\Business Analytics\\\\3rd Sem\\\\CLV\\\\Team Project\\\\Team Project\\\\combined_data.csv')"
   ]
  },
  {
   "cell_type": "markdown",
   "metadata": {},
   "source": [
    "## Using the head method to preview our data:"
   ]
  },
  {
   "cell_type": "code",
   "execution_count": 3,
   "metadata": {},
   "outputs": [
    {
     "data": {
      "text/html": [
       "<div>\n",
       "<style scoped>\n",
       "    .dataframe tbody tr th:only-of-type {\n",
       "        vertical-align: middle;\n",
       "    }\n",
       "\n",
       "    .dataframe tbody tr th {\n",
       "        vertical-align: top;\n",
       "    }\n",
       "\n",
       "    .dataframe thead th {\n",
       "        text-align: right;\n",
       "    }\n",
       "</style>\n",
       "<table border=\"1\" class=\"dataframe\">\n",
       "  <thead>\n",
       "    <tr style=\"text-align: right;\">\n",
       "      <th></th>\n",
       "      <th>ST</th>\n",
       "      <th>Zip</th>\n",
       "      <th>DMA</th>\n",
       "      <th>Area_Cd</th>\n",
       "      <th>emailable</th>\n",
       "      <th>solicit_ph_ind</th>\n",
       "      <th>solicit_email_ind</th>\n",
       "      <th>fixd_incm_flg</th>\n",
       "      <th>scheduled_purchase_flg</th>\n",
       "      <th>months_since_last_trans</th>\n",
       "      <th>...</th>\n",
       "      <th>tier_prev_1-Bronze</th>\n",
       "      <th>tier_prev_2-Silver</th>\n",
       "      <th>tier_prev_3-Gold</th>\n",
       "      <th>tier_prev_4-Platinum</th>\n",
       "      <th>tier_prev_5-Diamond</th>\n",
       "      <th>tier_prev_xxx</th>\n",
       "      <th>demog_ownrent_trans_DO</th>\n",
       "      <th>demog_ownrent_trans_DR</th>\n",
       "      <th>demog_ownrent_trans_PO</th>\n",
       "      <th>demog_ownrent_trans_PR</th>\n",
       "    </tr>\n",
       "  </thead>\n",
       "  <tbody>\n",
       "    <tr>\n",
       "      <th>0</th>\n",
       "      <td>SC</td>\n",
       "      <td>29607</td>\n",
       "      <td>567</td>\n",
       "      <td>864</td>\n",
       "      <td>1</td>\n",
       "      <td>1</td>\n",
       "      <td>1</td>\n",
       "      <td>0</td>\n",
       "      <td>0</td>\n",
       "      <td>3</td>\n",
       "      <td>...</td>\n",
       "      <td>0</td>\n",
       "      <td>0</td>\n",
       "      <td>0</td>\n",
       "      <td>0</td>\n",
       "      <td>0</td>\n",
       "      <td>1</td>\n",
       "      <td>0</td>\n",
       "      <td>1</td>\n",
       "      <td>0</td>\n",
       "      <td>0</td>\n",
       "    </tr>\n",
       "    <tr>\n",
       "      <th>1</th>\n",
       "      <td>MO</td>\n",
       "      <td>63901</td>\n",
       "      <td>632</td>\n",
       "      <td>573</td>\n",
       "      <td>1</td>\n",
       "      <td>1</td>\n",
       "      <td>1</td>\n",
       "      <td>0</td>\n",
       "      <td>0</td>\n",
       "      <td>9</td>\n",
       "      <td>...</td>\n",
       "      <td>0</td>\n",
       "      <td>0</td>\n",
       "      <td>0</td>\n",
       "      <td>0</td>\n",
       "      <td>0</td>\n",
       "      <td>1</td>\n",
       "      <td>1</td>\n",
       "      <td>0</td>\n",
       "      <td>0</td>\n",
       "      <td>0</td>\n",
       "    </tr>\n",
       "    <tr>\n",
       "      <th>2</th>\n",
       "      <td>IL</td>\n",
       "      <td>60456</td>\n",
       "      <td>602</td>\n",
       "      <td>missing</td>\n",
       "      <td>0</td>\n",
       "      <td>1</td>\n",
       "      <td>1</td>\n",
       "      <td>0</td>\n",
       "      <td>0</td>\n",
       "      <td>1</td>\n",
       "      <td>...</td>\n",
       "      <td>0</td>\n",
       "      <td>0</td>\n",
       "      <td>0</td>\n",
       "      <td>0</td>\n",
       "      <td>0</td>\n",
       "      <td>1</td>\n",
       "      <td>1</td>\n",
       "      <td>0</td>\n",
       "      <td>0</td>\n",
       "      <td>0</td>\n",
       "    </tr>\n",
       "    <tr>\n",
       "      <th>3</th>\n",
       "      <td>FL</td>\n",
       "      <td>34698</td>\n",
       "      <td>539</td>\n",
       "      <td>727</td>\n",
       "      <td>1</td>\n",
       "      <td>1</td>\n",
       "      <td>1</td>\n",
       "      <td>0</td>\n",
       "      <td>0</td>\n",
       "      <td>9</td>\n",
       "      <td>...</td>\n",
       "      <td>0</td>\n",
       "      <td>0</td>\n",
       "      <td>0</td>\n",
       "      <td>0</td>\n",
       "      <td>0</td>\n",
       "      <td>1</td>\n",
       "      <td>1</td>\n",
       "      <td>0</td>\n",
       "      <td>0</td>\n",
       "      <td>0</td>\n",
       "    </tr>\n",
       "    <tr>\n",
       "      <th>4</th>\n",
       "      <td>CA</td>\n",
       "      <td>92084</td>\n",
       "      <td>825</td>\n",
       "      <td>760</td>\n",
       "      <td>0</td>\n",
       "      <td>1</td>\n",
       "      <td>1</td>\n",
       "      <td>0</td>\n",
       "      <td>0</td>\n",
       "      <td>1</td>\n",
       "      <td>...</td>\n",
       "      <td>0</td>\n",
       "      <td>0</td>\n",
       "      <td>0</td>\n",
       "      <td>0</td>\n",
       "      <td>0</td>\n",
       "      <td>1</td>\n",
       "      <td>1</td>\n",
       "      <td>0</td>\n",
       "      <td>0</td>\n",
       "      <td>0</td>\n",
       "    </tr>\n",
       "  </tbody>\n",
       "</table>\n",
       "<p>5 rows × 126 columns</p>\n",
       "</div>"
      ],
      "text/plain": [
       "   ST    Zip  DMA  Area_Cd  emailable  solicit_ph_ind  solicit_email_ind  \\\n",
       "0  SC  29607  567      864          1               1                  1   \n",
       "1  MO  63901  632      573          1               1                  1   \n",
       "2  IL  60456  602  missing          0               1                  1   \n",
       "3  FL  34698  539      727          1               1                  1   \n",
       "4  CA  92084  825      760          0               1                  1   \n",
       "\n",
       "   fixd_incm_flg  scheduled_purchase_flg  months_since_last_trans  \\\n",
       "0              0                       0                        3   \n",
       "1              0                       0                        9   \n",
       "2              0                       0                        1   \n",
       "3              0                       0                        9   \n",
       "4              0                       0                        1   \n",
       "\n",
       "           ...            tier_prev_1-Bronze  tier_prev_2-Silver  \\\n",
       "0          ...                             0                   0   \n",
       "1          ...                             0                   0   \n",
       "2          ...                             0                   0   \n",
       "3          ...                             0                   0   \n",
       "4          ...                             0                   0   \n",
       "\n",
       "   tier_prev_3-Gold  tier_prev_4-Platinum  tier_prev_5-Diamond tier_prev_xxx  \\\n",
       "0                 0                     0                    0             1   \n",
       "1                 0                     0                    0             1   \n",
       "2                 0                     0                    0             1   \n",
       "3                 0                     0                    0             1   \n",
       "4                 0                     0                    0             1   \n",
       "\n",
       "  demog_ownrent_trans_DO demog_ownrent_trans_DR demog_ownrent_trans_PO  \\\n",
       "0                      0                      1                      0   \n",
       "1                      1                      0                      0   \n",
       "2                      1                      0                      0   \n",
       "3                      1                      0                      0   \n",
       "4                      1                      0                      0   \n",
       "\n",
       "  demog_ownrent_trans_PR  \n",
       "0                      0  \n",
       "1                      0  \n",
       "2                      0  \n",
       "3                      0  \n",
       "4                      0  \n",
       "\n",
       "[5 rows x 126 columns]"
      ]
     },
     "execution_count": 3,
     "metadata": {},
     "output_type": "execute_result"
    }
   ],
   "source": [
    "combined_df.head()"
   ]
  },
  {
   "cell_type": "markdown",
   "metadata": {},
   "source": [
    "## Doing some basic exploratory analysis:"
   ]
  },
  {
   "cell_type": "code",
   "execution_count": 4,
   "metadata": {},
   "outputs": [
    {
     "name": "stdout",
     "output_type": "stream",
     "text": [
      " \n",
      "averages by churn ind\n",
      " \n",
      "churn_year_plus1_ind\n",
      "0    2.996402\n",
      "1    2.484621\n",
      "Name: log_purch_amt_life, dtype: float64\n",
      " \n",
      " \n",
      "churn_year_plus1_ind\n",
      "0    0.35158\n",
      "1    0.00428\n",
      "Name: scheduled_purchase_flg, dtype: float64\n",
      " \n",
      " \n",
      "churn_year_plus1_ind\n",
      "0    1.756148\n",
      "1    6.150961\n",
      "Name: months_since_last_trans, dtype: float64\n"
     ]
    }
   ],
   "source": [
    "\"\"\" Analyzing average values of numeric variables, by the levels of the binary target variable \"\"\"\n",
    "print(\" \") \n",
    "print(\"averages by churn ind\")\n",
    "print(\" \") \n",
    "print(combined_df.groupby('churn_year_plus1_ind')['log_purch_amt_life'].mean())\n",
    "\n",
    "print(\" \") \n",
    "print(\" \") \n",
    "print(combined_df.groupby('churn_year_plus1_ind')['scheduled_purchase_flg'].mean())\n",
    "\n",
    "print(\" \") \n",
    "print(\" \") \n",
    "print(combined_df.groupby('churn_year_plus1_ind')['months_since_last_trans'].mean())"
   ]
  },
  {
   "cell_type": "code",
   "execution_count": 5,
   "metadata": {},
   "outputs": [
    {
     "data": {
      "text/plain": [
       "<matplotlib.axes._subplots.AxesSubplot at 0x273d570ea20>"
      ]
     },
     "execution_count": 5,
     "metadata": {},
     "output_type": "execute_result"
    },
    {
     "data": {
      "image/png": "[encoded data removed]",
      "text/plain": [
       "<Figure size 1080x1080 with 1 Axes>"
      ]
     },
     "metadata": {
      "needs_background": "light"
     },
     "output_type": "display_data"
    }
   ],
   "source": [
    "\"\"\" A boxplot to investigate the distribution of numeric variables by the levels of the target \"\"\"\n",
    "\n",
    "combined_df.boxplot(column='log_order_cnt_36mo', by='churn_year_plus1_ind',figsize=(15,15))"
   ]
  },
  {
   "cell_type": "markdown",
   "metadata": {},
   "source": [
    "## Printing variable stats:"
   ]
  },
  {
   "cell_type": "code",
   "execution_count": 6,
   "metadata": {},
   "outputs": [
    {
     "name": "stdout",
     "output_type": "stream",
     "text": [
      " summary stats on combined data \n",
      "                           count  unique         top    freq         mean  \\\n",
      "ST                        239356      61          TX   21540          NaN   \n",
      "Zip                       239356   26096     missing     889          NaN   \n",
      "DMA                       239356     216         803    9679          NaN   \n",
      "Area_Cd                   239356     384     missing   13034          NaN   \n",
      "emailable                 239356     NaN         NaN     NaN     0.515011   \n",
      "solicit_ph_ind            239356     NaN         NaN     NaN     0.892415   \n",
      "solicit_email_ind         239356     NaN         NaN     NaN     0.964079   \n",
      "fixd_incm_flg             239356     NaN         NaN     NaN     0.092494   \n",
      "scheduled_purchase_flg    239356     NaN         NaN     NaN     0.260039   \n",
      "months_since_last_trans   239356     NaN         NaN     NaN      2.91452   \n",
      "months_since_first_trans  239356     NaN         NaN     NaN      65.6307   \n",
      "purch_avg_interval        239356     NaN         NaN     NaN      4.91828   \n",
      "mail_cnt_36mo             239356     NaN         NaN     NaN      19.0562   \n",
      "call_in_mo_36mo           239356     NaN         NaN     NaN      7.79348   \n",
      "call_out_mo_36mo          239356     NaN         NaN     NaN      2.27081   \n",
      "tier                      239356       5    1-Bronze  153735          NaN   \n",
      "tier_prev                 239356       6         xxx  161662          NaN   \n",
      "acct_ID                   239356  239356  I152654137       1          NaN   \n",
      "activation_date           239356     208     06JUL00   17370          NaN   \n",
      "event_date                 63089      12     31JUL15    6875          NaN   \n",
      "churn_year_plus1_ind      239356     NaN         NaN     NaN     0.263578   \n",
      "log_order_cnt_36mo        239356     NaN         NaN     NaN     0.737097   \n",
      "log_purch_amt_36mo        239356     NaN         NaN     NaN      2.60444   \n",
      "log_purch_amt_life        239356     NaN         NaN     NaN      2.86151   \n",
      "log_purch_avg_36mo        239356     NaN         NaN     NaN      1.54027   \n",
      "log_purch_cnt_life        239356     NaN         NaN     NaN       1.4006   \n",
      "log_purch_cnt_tt_36mo     239356     NaN         NaN     NaN      1.14134   \n",
      "log_resp_cnt_36mo         239356     NaN         NaN     NaN     0.321832   \n",
      "perc_purch_cc_36mo        239356     NaN         NaN     NaN     0.306987   \n",
      "perc_purch_ck_36mo        239356     NaN         NaN     NaN     0.560399   \n",
      "...                          ...     ...         ...     ...          ...   \n",
      "ST_PR                     239356     NaN         NaN     NaN  0.000630859   \n",
      "ST_RI                     239356     NaN         NaN     NaN   0.00471682   \n",
      "ST_SC                     239356     NaN         NaN     NaN    0.0186751   \n",
      "ST_SD                     239356     NaN         NaN     NaN   0.00208476   \n",
      "ST_TN                     239356     NaN         NaN     NaN    0.0286143   \n",
      "ST_TX                     239356     NaN         NaN     NaN    0.0899915   \n",
      "ST_UT                     239356     NaN         NaN     NaN   0.00147897   \n",
      "ST_VA                     239356     NaN         NaN     NaN    0.0445027   \n",
      "ST_VI                     239356     NaN         NaN     NaN  0.000463744   \n",
      "ST_VT                     239356     NaN         NaN     NaN  0.000605792   \n",
      "ST_WA                     239356     NaN         NaN     NaN    0.0267175   \n",
      "ST_WI                     239356     NaN         NaN     NaN    0.0128219   \n",
      "ST_WV                     239356     NaN         NaN     NaN   0.00902839   \n",
      "ST_WY                     239356     NaN         NaN     NaN    0.0019636   \n",
      "ST_missing                239356     NaN         NaN     NaN   0.00382694   \n",
      "tier_1-Bronze             239356     NaN         NaN     NaN     0.642286   \n",
      "tier_2-Silver             239356     NaN         NaN     NaN     0.202264   \n",
      "tier_3-Gold               239356     NaN         NaN     NaN     0.112661   \n",
      "tier_4-Platinum           239356     NaN         NaN     NaN    0.0227611   \n",
      "tier_5-Diamond            239356     NaN         NaN     NaN    0.0200287   \n",
      "tier_prev_1-Bronze        239356     NaN         NaN     NaN      0.21097   \n",
      "tier_prev_2-Silver        239356     NaN         NaN     NaN    0.0631946   \n",
      "tier_prev_3-Gold          239356     NaN         NaN     NaN    0.0331139   \n",
      "tier_prev_4-Platinum      239356     NaN         NaN     NaN    0.0110672   \n",
      "tier_prev_5-Diamond       239356     NaN         NaN     NaN    0.0062501   \n",
      "tier_prev_xxx             239356     NaN         NaN     NaN     0.675404   \n",
      "demog_ownrent_trans_DO    239356     NaN         NaN     NaN     0.939061   \n",
      "demog_ownrent_trans_DR    239356     NaN         NaN     NaN    0.0224227   \n",
      "demog_ownrent_trans_PO    239356     NaN         NaN     NaN    0.0166948   \n",
      "demog_ownrent_trans_PR    239356     NaN         NaN     NaN    0.0218211   \n",
      "\n",
      "                                std      min       25%       50%       75%  \\\n",
      "ST                              NaN      NaN       NaN       NaN       NaN   \n",
      "Zip                             NaN      NaN       NaN       NaN       NaN   \n",
      "DMA                             NaN      NaN       NaN       NaN       NaN   \n",
      "Area_Cd                         NaN      NaN       NaN       NaN       NaN   \n",
      "emailable                  0.499776        0         0         1         1   \n",
      "solicit_ph_ind             0.309856        0         1         1         1   \n",
      "solicit_email_ind          0.186095        0         1         1         1   \n",
      "fixd_incm_flg              0.289723        0         0         0         0   \n",
      "scheduled_purchase_flg     0.438657        0         0         0         1   \n",
      "months_since_last_trans     3.11054        1         1         1         4   \n",
      "months_since_first_trans    58.1796        1        14        46       110   \n",
      "purch_avg_interval           10.071        0         1      1.22      2.59   \n",
      "mail_cnt_36mo                14.789        0         6        16        33   \n",
      "call_in_mo_36mo             47.4832        0         0         0         3   \n",
      "call_out_mo_36mo             2.3687        0         1         2         3   \n",
      "tier                            NaN      NaN       NaN       NaN       NaN   \n",
      "tier_prev                       NaN      NaN       NaN       NaN       NaN   \n",
      "acct_ID                         NaN      NaN       NaN       NaN       NaN   \n",
      "activation_date                 NaN      NaN       NaN       NaN       NaN   \n",
      "event_date                      NaN      NaN       NaN       NaN       NaN   \n",
      "churn_year_plus1_ind       0.440574        0         0         0         1   \n",
      "log_order_cnt_36mo         0.289453        0   0.60206   0.69897   0.90309   \n",
      "log_purch_amt_36mo         0.647132        0   2.20683   2.71265   3.02572   \n",
      "log_purch_amt_life         0.797219        0   2.34439   2.90902   3.43233   \n",
      "log_purch_avg_36mo          0.35034        0   1.32222   1.41697   1.67825   \n",
      "log_purch_cnt_life         0.604615  0.30103  0.954243   1.43136   1.86923   \n",
      "log_purch_cnt_tt_36mo      0.428455        0  0.845098   1.25527   1.53148   \n",
      "log_resp_cnt_36mo          0.448922        0         0         0   0.60206   \n",
      "perc_purch_cc_36mo         0.439126        0         0         0  0.928571   \n",
      "perc_purch_ck_36mo         0.469781        0         0  0.933333         1   \n",
      "...                             ...      ...       ...       ...       ...   \n",
      "ST_PR                      0.025109        0         0         0         0   \n",
      "ST_RI                     0.0685171        0         0         0         0   \n",
      "ST_SC                      0.135375        0         0         0         0   \n",
      "ST_SD                     0.0456117        0         0         0         0   \n",
      "ST_TN                       0.16672        0         0         0         0   \n",
      "ST_TX                       0.28617        0         0         0         0   \n",
      "ST_UT                      0.038429        0         0         0         0   \n",
      "ST_VA                       0.20621        0         0         0         0   \n",
      "ST_VI                     0.0215298        0         0         0         0   \n",
      "ST_VT                     0.0246054        0         0         0         0   \n",
      "ST_WA                      0.161257        0         0         0         0   \n",
      "ST_WI                      0.112506        0         0         0         0   \n",
      "ST_WV                     0.0945882        0         0         0         0   \n",
      "ST_WY                     0.0442691        0         0         0         0   \n",
      "ST_missing                0.0617439        0         0         0         0   \n",
      "tier_1-Bronze              0.479328        0         0         1         1   \n",
      "tier_2-Silver              0.401689        0         0         0         0   \n",
      "tier_3-Gold                0.316178        0         0         0         0   \n",
      "tier_4-Platinum            0.149141        0         0         0         0   \n",
      "tier_5-Diamond             0.140099        0         0         0         0   \n",
      "tier_prev_1-Bronze         0.407998        0         0         0         0   \n",
      "tier_prev_2-Silver         0.243313        0         0         0         0   \n",
      "tier_prev_3-Gold           0.178934        0         0         0         0   \n",
      "tier_prev_4-Platinum       0.104617        0         0         0         0   \n",
      "tier_prev_5-Diamond       0.0788103        0         0         0         0   \n",
      "tier_prev_xxx              0.468225        0         0         1         1   \n",
      "demog_ownrent_trans_DO     0.239218        0         1         1         1   \n",
      "demog_ownrent_trans_DR     0.148054        0         0         0         0   \n",
      "demog_ownrent_trans_PO     0.128126        0         0         0         0   \n",
      "demog_ownrent_trans_PR     0.146099        0         0         0         0   \n",
      "\n",
      "                              max  \n",
      "ST                            NaN  \n",
      "Zip                           NaN  \n",
      "DMA                           NaN  \n",
      "Area_Cd                       NaN  \n",
      "emailable                       1  \n",
      "solicit_ph_ind                  1  \n",
      "solicit_email_ind               1  \n",
      "fixd_incm_flg                   1  \n",
      "scheduled_purchase_flg          1  \n",
      "months_since_last_trans        12  \n",
      "months_since_first_trans      290  \n",
      "purch_avg_interval            168  \n",
      "mail_cnt_36mo                 424  \n",
      "call_in_mo_36mo              2670  \n",
      "call_out_mo_36mo               38  \n",
      "tier                          NaN  \n",
      "tier_prev                     NaN  \n",
      "acct_ID                       NaN  \n",
      "activation_date               NaN  \n",
      "event_date                    NaN  \n",
      "churn_year_plus1_ind            1  \n",
      "log_order_cnt_36mo        2.77815  \n",
      "log_purch_amt_36mo        6.08636  \n",
      "log_purch_amt_life        6.74026  \n",
      "log_purch_avg_36mo         5.4843  \n",
      "log_purch_cnt_life         3.4216  \n",
      "log_purch_cnt_tt_36mo     2.67761  \n",
      "log_resp_cnt_36mo         2.60531  \n",
      "perc_purch_cc_36mo              2  \n",
      "perc_purch_ck_36mo              2  \n",
      "...                           ...  \n",
      "ST_PR                           1  \n",
      "ST_RI                           1  \n",
      "ST_SC                           1  \n",
      "ST_SD                           1  \n",
      "ST_TN                           1  \n",
      "ST_TX                           1  \n",
      "ST_UT                           1  \n",
      "ST_VA                           1  \n",
      "ST_VI                           1  \n",
      "ST_VT                           1  \n",
      "ST_WA                           1  \n",
      "ST_WI                           1  \n",
      "ST_WV                           1  \n",
      "ST_WY                           1  \n",
      "ST_missing                      1  \n",
      "tier_1-Bronze                   1  \n",
      "tier_2-Silver                   1  \n",
      "tier_3-Gold                     1  \n",
      "tier_4-Platinum                 1  \n",
      "tier_5-Diamond                  1  \n",
      "tier_prev_1-Bronze              1  \n",
      "tier_prev_2-Silver              1  \n",
      "tier_prev_3-Gold                1  \n",
      "tier_prev_4-Platinum            1  \n",
      "tier_prev_5-Diamond             1  \n",
      "tier_prev_xxx                   1  \n",
      "demog_ownrent_trans_DO          1  \n",
      "demog_ownrent_trans_DR          1  \n",
      "demog_ownrent_trans_PO          1  \n",
      "demog_ownrent_trans_PR          1  \n",
      "\n",
      "[126 rows x 11 columns]\n"
     ]
    }
   ],
   "source": [
    "print(\" summary stats on combined data \") \n",
    "print(combined_df.describe(include='all').transpose())"
   ]
  },
  {
   "cell_type": "markdown",
   "metadata": {},
   "source": [
    "## Dropping variables we don't want included in modeling, and creating new version of data for modeling:"
   ]
  },
  {
   "cell_type": "code",
   "execution_count": 7,
   "metadata": {},
   "outputs": [
    {
     "data": {
      "text/plain": [
       "['event_date']"
      ]
     },
     "execution_count": 7,
     "metadata": {},
     "output_type": "execute_result"
    }
   ],
   "source": [
    "[col for col in combined_df.columns if combined_df[col].isnull().any()]"
   ]
  },
  {
   "cell_type": "code",
   "execution_count": 8,
   "metadata": {},
   "outputs": [
    {
     "data": {
      "text/plain": [
       "(239356, 117)"
      ]
     },
     "execution_count": 8,
     "metadata": {},
     "output_type": "execute_result"
    }
   ],
   "source": [
    "\"\"\" Any categorical variable for which we did not create dummy indicators        \"\"\"\n",
    "\"\"\"    and other variables we don't want in the model, or which don't make sense \"\"\"\n",
    "\"\"\"    to be included in model training, we are dropping here:                   \"\"\"\n",
    "\n",
    "\"\"\" Note:  we also want to drop acct_ID, but we are going to do that after partioning \"\"\"\n",
    "\"\"\"        because we need acct_ID for partioned sets to for reference later          \"\"\"\n",
    "\n",
    "x_train_df = combined_df.drop(['Zip','DMA','Area_Cd','activation_date','event_date',\n",
    "                            'ST','tier','tier_prev','demog_ownrent_trans'\n",
    "                              ],axis=1)\n",
    "\n",
    "x_train_df.shape"
   ]
  },
  {
   "cell_type": "markdown",
   "metadata": {},
   "source": [
    "## Partitioning data into Training and Test sets, creating X vs Y sets, and\n",
    "##     creating dataframes with just account IDs to be used to rejoin data later:"
   ]
  },
  {
   "cell_type": "code",
   "execution_count": 9,
   "metadata": {},
   "outputs": [
    {
     "data": {
      "text/plain": [
       "(167549, 113)"
      ]
     },
     "execution_count": 9,
     "metadata": {},
     "output_type": "execute_result"
    }
   ],
   "source": [
    "x_train_df, x_test_df = train_test_split(x_train_df, test_size = 0.30)\n",
    "\n",
    "\"\"\" will need the acct_IDs to rejoin data later, so pulling out now before dropping from actual model training data \"\"\"\n",
    "\n",
    "train_acct_IDs_df = x_train_df[['acct_ID']]\n",
    "test_acct_IDs_df  = x_test_df[['acct_ID']]\n",
    "\n",
    "\"\"\" the target (or dependent) variable is stored in it's own dataframe \"\"\"\n",
    "\n",
    "y_train_df = x_train_df[['churn_year_plus1_ind']]\n",
    "y_test_df  = x_test_df[['churn_year_plus1_ind']]\n",
    "\n",
    "\"\"\" and we want to drop acct_ID and the target variable from the dataframe of independent variables \"\"\"\n",
    "\"\"\" PLUS we want to drop the target (future timeframe) variables for margin modeling                \"\"\"\n",
    "\n",
    "x_train_df = x_train_df.drop(['acct_ID','churn_year_plus1_ind', 'log_margin_Y_pos_1', 'margin_Y_pos_1'\n",
    "                             ],axis=1)\n",
    "\n",
    "x_test_df = x_test_df.drop(['acct_ID','churn_year_plus1_ind', 'log_margin_Y_pos_1', 'margin_Y_pos_1'\n",
    "                             ],axis=1)\n",
    "\n",
    "x_train_df.shape"
   ]
  },
  {
   "cell_type": "markdown",
   "metadata": {},
   "source": [
    "## Starting with a scikit_learn Logistic Regression Model\n",
    "##    and using that modeling algorithm to select variables.\n",
    "\n",
    "## Note:  change the C parameter and rerun to get reasonable number of selected vars."
   ]
  },
  {
   "cell_type": "code",
   "execution_count": 10,
   "metadata": {},
   "outputs": [
    {
     "data": {
      "text/plain": [
       "(102, 1)"
      ]
     },
     "execution_count": 10,
     "metadata": {},
     "output_type": "execute_result"
    }
   ],
   "source": [
    "\"\"\" models penalized with the L1 norm have sparse solutions: many of their estimated coefficients are zero \"\"\"\n",
    "\"\"\" SelectFromModel can be used to to select effects with non-zero coefficients \"\"\"\n",
    "\"\"\" the parameter C controls the sparsity: the smaller C the fewer features selected \"\"\"\n",
    "\n",
    "\"\"\" using the ravel simply to avoid warning in log \"\"\"\n",
    "y_train_array=np.ravel(y_train_df)\n",
    "\n",
    "\"\"\" start with C = 1.0, then try 0.1, etc \"\"\"\n",
    "model1 = linear_model.LogisticRegression(C=1.0, solver='liblinear', penalty='l1', tol=0.01)\n",
    "model1_fit = model1.fit(x_train_df, y_train_array)\n",
    "model1_selects = SelectFromModel(model1_fit, prefit=True)\n",
    "\"\"\"x_train_selected_df = model1_selects.transform(x_train_df)\"\"\"\n",
    "\n",
    "\"\"\" in lieu of commented-out transform method above, can use this method to explicitly define columns to keep \"\"\"\n",
    "x_train_selected_df = x_train_df[x_train_df.columns[model1_selects.get_support()]]\n",
    "x_test_selected_df  = x_test_df[x_test_df.columns[model1_selects.get_support()]]\n",
    "\n",
    "coefficients = pd.DataFrame(model1_fit.coef_)\n",
    "coefficients = np.transpose(coefficients[coefficients.columns[model1_selects.get_support()]])\n",
    "coefficients = coefficients.reset_index(drop=True)\n",
    "\n",
    "coefficients_match = pd.concat([pd.DataFrame(x_train_selected_df.columns),coefficients], axis = 1)\n",
    "\n",
    "coefficients.shape "
   ]
  },
  {
   "cell_type": "code",
   "execution_count": 11,
   "metadata": {},
   "outputs": [
    {
     "name": "stdout",
     "output_type": "stream",
     "text": [
      " \n",
      "Coefficients for selected variables\n"
     ]
    },
    {
     "data": {
      "text/html": [
       "<div>\n",
       "<style scoped>\n",
       "    .dataframe tbody tr th:only-of-type {\n",
       "        vertical-align: middle;\n",
       "    }\n",
       "\n",
       "    .dataframe tbody tr th {\n",
       "        vertical-align: top;\n",
       "    }\n",
       "\n",
       "    .dataframe thead th {\n",
       "        text-align: right;\n",
       "    }\n",
       "</style>\n",
       "<table border=\"1\" class=\"dataframe\">\n",
       "  <thead>\n",
       "    <tr style=\"text-align: right;\">\n",
       "      <th></th>\n",
       "      <th>0</th>\n",
       "      <th>0</th>\n",
       "    </tr>\n",
       "  </thead>\n",
       "  <tbody>\n",
       "    <tr>\n",
       "      <th>0</th>\n",
       "      <td>emailable</td>\n",
       "      <td>-0.172854</td>\n",
       "    </tr>\n",
       "    <tr>\n",
       "      <th>1</th>\n",
       "      <td>solicit_ph_ind</td>\n",
       "      <td>0.040598</td>\n",
       "    </tr>\n",
       "    <tr>\n",
       "      <th>2</th>\n",
       "      <td>solicit_email_ind</td>\n",
       "      <td>-0.101026</td>\n",
       "    </tr>\n",
       "    <tr>\n",
       "      <th>3</th>\n",
       "      <td>fixd_incm_flg</td>\n",
       "      <td>-0.085179</td>\n",
       "    </tr>\n",
       "    <tr>\n",
       "      <th>4</th>\n",
       "      <td>scheduled_purchase_flg</td>\n",
       "      <td>-4.824842</td>\n",
       "    </tr>\n",
       "    <tr>\n",
       "      <th>5</th>\n",
       "      <td>months_since_last_trans</td>\n",
       "      <td>0.433796</td>\n",
       "    </tr>\n",
       "    <tr>\n",
       "      <th>6</th>\n",
       "      <td>months_since_first_trans</td>\n",
       "      <td>-0.003680</td>\n",
       "    </tr>\n",
       "    <tr>\n",
       "      <th>7</th>\n",
       "      <td>purch_avg_interval</td>\n",
       "      <td>0.005536</td>\n",
       "    </tr>\n",
       "    <tr>\n",
       "      <th>8</th>\n",
       "      <td>mail_cnt_36mo</td>\n",
       "      <td>-0.012231</td>\n",
       "    </tr>\n",
       "    <tr>\n",
       "      <th>9</th>\n",
       "      <td>call_in_mo_36mo</td>\n",
       "      <td>-0.000843</td>\n",
       "    </tr>\n",
       "    <tr>\n",
       "      <th>10</th>\n",
       "      <td>call_out_mo_36mo</td>\n",
       "      <td>-0.022271</td>\n",
       "    </tr>\n",
       "    <tr>\n",
       "      <th>11</th>\n",
       "      <td>log_order_cnt_36mo</td>\n",
       "      <td>-0.189542</td>\n",
       "    </tr>\n",
       "    <tr>\n",
       "      <th>12</th>\n",
       "      <td>log_purch_amt_36mo</td>\n",
       "      <td>0.058564</td>\n",
       "    </tr>\n",
       "    <tr>\n",
       "      <th>13</th>\n",
       "      <td>log_purch_amt_life</td>\n",
       "      <td>-0.031718</td>\n",
       "    </tr>\n",
       "    <tr>\n",
       "      <th>14</th>\n",
       "      <td>log_purch_avg_36mo</td>\n",
       "      <td>-0.150927</td>\n",
       "    </tr>\n",
       "    <tr>\n",
       "      <th>15</th>\n",
       "      <td>log_purch_cnt_life</td>\n",
       "      <td>-0.019604</td>\n",
       "    </tr>\n",
       "    <tr>\n",
       "      <th>16</th>\n",
       "      <td>log_purch_cnt_tt_36mo</td>\n",
       "      <td>-0.100984</td>\n",
       "    </tr>\n",
       "    <tr>\n",
       "      <th>17</th>\n",
       "      <td>log_resp_cnt_36mo</td>\n",
       "      <td>-0.145557</td>\n",
       "    </tr>\n",
       "    <tr>\n",
       "      <th>18</th>\n",
       "      <td>perc_purch_cc_36mo</td>\n",
       "      <td>0.434899</td>\n",
       "    </tr>\n",
       "    <tr>\n",
       "      <th>19</th>\n",
       "      <td>perc_purch_ck_36mo</td>\n",
       "      <td>-0.488388</td>\n",
       "    </tr>\n",
       "    <tr>\n",
       "      <th>20</th>\n",
       "      <td>perc_purch_et_36mo</td>\n",
       "      <td>0.912486</td>\n",
       "    </tr>\n",
       "    <tr>\n",
       "      <th>21</th>\n",
       "      <td>margin_Y_neg_1</td>\n",
       "      <td>-0.000046</td>\n",
       "    </tr>\n",
       "    <tr>\n",
       "      <th>22</th>\n",
       "      <td>margin_Y_neg_2</td>\n",
       "      <td>-0.000022</td>\n",
       "    </tr>\n",
       "    <tr>\n",
       "      <th>23</th>\n",
       "      <td>margin_3yr_avg</td>\n",
       "      <td>0.000046</td>\n",
       "    </tr>\n",
       "    <tr>\n",
       "      <th>24</th>\n",
       "      <td>log_margin_Y_neg_1</td>\n",
       "      <td>0.024468</td>\n",
       "    </tr>\n",
       "    <tr>\n",
       "      <th>25</th>\n",
       "      <td>log_margin_Y_neg_2</td>\n",
       "      <td>0.029469</td>\n",
       "    </tr>\n",
       "    <tr>\n",
       "      <th>26</th>\n",
       "      <td>log_margin_Y_neg_3</td>\n",
       "      <td>0.020800</td>\n",
       "    </tr>\n",
       "    <tr>\n",
       "      <th>27</th>\n",
       "      <td>log_margin_3yr_avg</td>\n",
       "      <td>-0.075410</td>\n",
       "    </tr>\n",
       "    <tr>\n",
       "      <th>28</th>\n",
       "      <td>demog_span</td>\n",
       "      <td>0.083008</td>\n",
       "    </tr>\n",
       "    <tr>\n",
       "      <th>29</th>\n",
       "      <td>demog_generations</td>\n",
       "      <td>0.046926</td>\n",
       "    </tr>\n",
       "    <tr>\n",
       "      <th>30</th>\n",
       "      <td>demog_adults</td>\n",
       "      <td>-0.017281</td>\n",
       "    </tr>\n",
       "    <tr>\n",
       "      <th>31</th>\n",
       "      <td>demog_log_num</td>\n",
       "      <td>-0.001137</td>\n",
       "    </tr>\n",
       "    <tr>\n",
       "      <th>32</th>\n",
       "      <td>demog_age_num</td>\n",
       "      <td>-0.000494</td>\n",
       "    </tr>\n",
       "    <tr>\n",
       "      <th>33</th>\n",
       "      <td>ST_AE</td>\n",
       "      <td>0.500170</td>\n",
       "    </tr>\n",
       "    <tr>\n",
       "      <th>34</th>\n",
       "      <td>ST_AK</td>\n",
       "      <td>-0.050234</td>\n",
       "    </tr>\n",
       "    <tr>\n",
       "      <th>35</th>\n",
       "      <td>ST_AL</td>\n",
       "      <td>0.243407</td>\n",
       "    </tr>\n",
       "    <tr>\n",
       "      <th>36</th>\n",
       "      <td>ST_AP</td>\n",
       "      <td>-0.446787</td>\n",
       "    </tr>\n",
       "    <tr>\n",
       "      <th>37</th>\n",
       "      <td>ST_AR</td>\n",
       "      <td>0.244337</td>\n",
       "    </tr>\n",
       "    <tr>\n",
       "      <th>38</th>\n",
       "      <td>ST_AZ</td>\n",
       "      <td>0.080269</td>\n",
       "    </tr>\n",
       "    <tr>\n",
       "      <th>39</th>\n",
       "      <td>ST_CA</td>\n",
       "      <td>0.127030</td>\n",
       "    </tr>\n",
       "  </tbody>\n",
       "</table>\n",
       "</div>"
      ],
      "text/plain": [
       "                           0         0\n",
       "0                  emailable -0.172854\n",
       "1             solicit_ph_ind  0.040598\n",
       "2          solicit_email_ind -0.101026\n",
       "3              fixd_incm_flg -0.085179\n",
       "4     scheduled_purchase_flg -4.824842\n",
       "5    months_since_last_trans  0.433796\n",
       "6   months_since_first_trans -0.003680\n",
       "7         purch_avg_interval  0.005536\n",
       "8              mail_cnt_36mo -0.012231\n",
       "9            call_in_mo_36mo -0.000843\n",
       "10          call_out_mo_36mo -0.022271\n",
       "11        log_order_cnt_36mo -0.189542\n",
       "12        log_purch_amt_36mo  0.058564\n",
       "13        log_purch_amt_life -0.031718\n",
       "14        log_purch_avg_36mo -0.150927\n",
       "15        log_purch_cnt_life -0.019604\n",
       "16     log_purch_cnt_tt_36mo -0.100984\n",
       "17         log_resp_cnt_36mo -0.145557\n",
       "18        perc_purch_cc_36mo  0.434899\n",
       "19        perc_purch_ck_36mo -0.488388\n",
       "20        perc_purch_et_36mo  0.912486\n",
       "21            margin_Y_neg_1 -0.000046\n",
       "22            margin_Y_neg_2 -0.000022\n",
       "23            margin_3yr_avg  0.000046\n",
       "24        log_margin_Y_neg_1  0.024468\n",
       "25        log_margin_Y_neg_2  0.029469\n",
       "26        log_margin_Y_neg_3  0.020800\n",
       "27        log_margin_3yr_avg -0.075410\n",
       "28                demog_span  0.083008\n",
       "29         demog_generations  0.046926\n",
       "30              demog_adults -0.017281\n",
       "31             demog_log_num -0.001137\n",
       "32             demog_age_num -0.000494\n",
       "33                     ST_AE  0.500170\n",
       "34                     ST_AK -0.050234\n",
       "35                     ST_AL  0.243407\n",
       "36                     ST_AP -0.446787\n",
       "37                     ST_AR  0.244337\n",
       "38                     ST_AZ  0.080269\n",
       "39                     ST_CA  0.127030"
      ]
     },
     "execution_count": 11,
     "metadata": {},
     "output_type": "execute_result"
    }
   ],
   "source": [
    "print(\" \") \n",
    "print(\"Coefficients for selected variables\")\n",
    "coefficients_match.head(40)"
   ]
  },
  {
   "cell_type": "markdown",
   "metadata": {},
   "source": [
    "## Need to introduce variable reduction that addresses multicolinearity:"
   ]
  },
  {
   "cell_type": "code",
   "execution_count": 12,
   "metadata": {},
   "outputs": [
    {
     "data": {
      "text/plain": [
       "(167549, 102)"
      ]
     },
     "execution_count": 12,
     "metadata": {},
     "output_type": "execute_result"
    }
   ],
   "source": [
    "x_train_selected_df.shape"
   ]
  },
  {
   "cell_type": "code",
   "execution_count": 13,
   "metadata": {},
   "outputs": [
    {
     "name": "stderr",
     "output_type": "stream",
     "text": [
      "C:\\Users\\arunr\\Anaconda3\\lib\\site-packages\\statsmodels\\stats\\outliers_influence.py:181: RuntimeWarning: divide by zero encountered in double_scalars\n",
      "  vif = 1. / (1. - r_squared_i)\n"
     ]
    },
    {
     "name": "stdout",
     "output_type": "stream",
     "text": [
      "dropping 'tier_1-Bronze' at index: 87\n",
      "dropping 'tier_prev_1-Bronze' at index: 91\n",
      "dropping 'demog_ownrent_trans_DO' at index: 96\n",
      "dropping 'log_margin_3yr_avg' at index: 27\n",
      "dropping 'log_margin_Y_neg_2' at index: 25\n",
      "dropping 'log_margin_Y_neg_1' at index: 24\n",
      "dropping 'log_purch_amt_36mo' at index: 12\n",
      "dropping 'log_margin_Y_neg_3' at index: 23\n",
      "dropping 'log_purch_amt_life' at index: 12\n",
      "dropping 'log_purch_cnt_life' at index: 13\n",
      "dropping 'perc_purch_ck_36mo' at index: 16\n",
      "dropping 'log_purch_cnt_tt_36mo' at index: 13\n",
      "dropping 'log_purch_avg_36mo' at index: 12\n",
      "dropping 'solicit_email_ind' at index: 2\n",
      "dropping 'demog_age_num' at index: 21\n",
      "dropping 'log_order_cnt_36mo' at index: 10\n",
      "dropping 'margin_3yr_avg' at index: 15\n",
      "Remaining variables:\n",
      "Index(['emailable', 'solicit_ph_ind', 'fixd_incm_flg',\n",
      "       'scheduled_purchase_flg', 'months_since_last_trans',\n",
      "       'months_since_first_trans', 'purch_avg_interval', 'mail_cnt_36mo',\n",
      "       'call_in_mo_36mo', 'call_out_mo_36mo', 'log_resp_cnt_36mo',\n",
      "       'perc_purch_cc_36mo', 'perc_purch_et_36mo', 'margin_Y_neg_1',\n",
      "       'margin_Y_neg_2', 'demog_span', 'demog_generations', 'demog_adults',\n",
      "       'demog_log_num', 'ST_AE', 'ST_AK', 'ST_AL', 'ST_AP', 'ST_AR', 'ST_AZ',\n",
      "       'ST_CA', 'ST_CO', 'ST_CT', 'ST_DC', 'ST_DE', 'ST_FL', 'ST_GA', 'ST_HI',\n",
      "       'ST_IA', 'ST_IL', 'ST_IN', 'ST_KS', 'ST_KY', 'ST_LA', 'ST_MA', 'ST_MD',\n",
      "       'ST_ME', 'ST_MI', 'ST_MN', 'ST_MO', 'ST_MS', 'ST_MT', 'ST_NC', 'ST_ND',\n",
      "       'ST_NE', 'ST_NH', 'ST_NJ', 'ST_NM', 'ST_NV', 'ST_NY', 'ST_OH', 'ST_OK',\n",
      "       'ST_OR', 'ST_PA', 'ST_PR', 'ST_RI', 'ST_SC', 'ST_SD', 'ST_TN', 'ST_TX',\n",
      "       'ST_UT', 'ST_VA', 'ST_VI', 'ST_VT', 'ST_WA', 'ST_WV', 'ST_WY',\n",
      "       'ST_missing', 'tier_2-Silver', 'tier_3-Gold', 'tier_4-Platinum',\n",
      "       'tier_5-Diamond', 'tier_prev_2-Silver', 'tier_prev_3-Gold',\n",
      "       'tier_prev_4-Platinum', 'tier_prev_5-Diamond', 'tier_prev_xxx',\n",
      "       'demog_ownrent_trans_DR', 'demog_ownrent_trans_PO',\n",
      "       'demog_ownrent_trans_PR'],\n",
      "      dtype='object')\n"
     ]
    },
    {
     "data": {
      "text/plain": [
       "(167549, 85)"
      ]
     },
     "execution_count": 13,
     "metadata": {},
     "output_type": "execute_result"
    }
   ],
   "source": [
    "from statsmodels.stats.outliers_influence import variance_inflation_factor    \n",
    "\n",
    "def calculate_vif_(X, thresh=10):\n",
    "    cols = X.columns\n",
    "    variables = np.arange(X.shape[1])\n",
    "    dropped=True\n",
    "    while dropped:\n",
    "        c = X[cols[variables]].values\n",
    "        vif = [variance_inflation_factor(c, ix) for ix in np.arange(c.shape[1])]\n",
    "        maxloc = vif.index(max(vif))\n",
    "        if max(vif) > thresh:\n",
    "            print('dropping \\'' + X[cols[variables]].columns[maxloc] + '\\' at index: ' + str(maxloc))\n",
    "            variables = np.delete(variables, maxloc)\n",
    "        else:\n",
    "            dropped=False\n",
    "        \n",
    "    print('Remaining variables:')\n",
    "    print(X.columns[variables])\n",
    "    \n",
    "    return X.iloc[:, variables]\n",
    "\n",
    "x_train_selected_df=calculate_vif_(x_train_selected_df, 10.0)\n",
    "        \n",
    "x_train_selected_df.shape"
   ]
  },
  {
   "cell_type": "markdown",
   "metadata": {},
   "source": [
    "## Run the step above, repeatedly, until no more variables are dropped."
   ]
  },
  {
   "cell_type": "code",
   "execution_count": 14,
   "metadata": {},
   "outputs": [
    {
     "name": "stdout",
     "output_type": "stream",
     "text": [
      "Remaining variables in test set:\n",
      "Index(['emailable', 'solicit_ph_ind', 'fixd_incm_flg',\n",
      "       'scheduled_purchase_flg', 'months_since_last_trans',\n",
      "       'months_since_first_trans', 'purch_avg_interval', 'mail_cnt_36mo',\n",
      "       'call_in_mo_36mo', 'call_out_mo_36mo', 'log_resp_cnt_36mo',\n",
      "       'perc_purch_cc_36mo', 'perc_purch_et_36mo', 'margin_Y_neg_1',\n",
      "       'margin_Y_neg_2', 'demog_span', 'demog_generations', 'demog_adults',\n",
      "       'demog_log_num', 'ST_AE', 'ST_AK', 'ST_AL', 'ST_AP', 'ST_AR', 'ST_AZ',\n",
      "       'ST_CA', 'ST_CO', 'ST_CT', 'ST_DC', 'ST_DE', 'ST_FL', 'ST_GA', 'ST_HI',\n",
      "       'ST_IA', 'ST_IL', 'ST_IN', 'ST_KS', 'ST_KY', 'ST_LA', 'ST_MA', 'ST_MD',\n",
      "       'ST_ME', 'ST_MI', 'ST_MN', 'ST_MO', 'ST_MS', 'ST_MT', 'ST_NC', 'ST_ND',\n",
      "       'ST_NE', 'ST_NH', 'ST_NJ', 'ST_NM', 'ST_NV', 'ST_NY', 'ST_OH', 'ST_OK',\n",
      "       'ST_OR', 'ST_PA', 'ST_PR', 'ST_RI', 'ST_SC', 'ST_SD', 'ST_TN', 'ST_TX',\n",
      "       'ST_UT', 'ST_VA', 'ST_VI', 'ST_VT', 'ST_WA', 'ST_WV', 'ST_WY',\n",
      "       'ST_missing', 'tier_2-Silver', 'tier_3-Gold', 'tier_4-Platinum',\n",
      "       'tier_5-Diamond', 'tier_prev_2-Silver', 'tier_prev_3-Gold',\n",
      "       'tier_prev_4-Platinum', 'tier_prev_5-Diamond', 'tier_prev_xxx',\n",
      "       'demog_ownrent_trans_DR', 'demog_ownrent_trans_PO',\n",
      "       'demog_ownrent_trans_PR'],\n",
      "      dtype='object')\n"
     ]
    },
    {
     "data": {
      "text/plain": [
       "(71807, 85)"
      ]
     },
     "execution_count": 14,
     "metadata": {},
     "output_type": "execute_result"
    }
   ],
   "source": [
    "\"\"\" reducing the test set to have the same columns as the training set \"\"\"\n",
    "\n",
    "x_test_selected_df=x_test_selected_df[x_train_selected_df.columns]\n",
    "print('Remaining variables in test set:')\n",
    "print(x_test_selected_df.columns)\n",
    "        \n",
    "x_test_selected_df.shape"
   ]
  },
  {
   "cell_type": "markdown",
   "metadata": {},
   "source": [
    "## Using the statsmodels package to see \"friendlier\" looking Logistic output:"
   ]
  },
  {
   "cell_type": "code",
   "execution_count": 15,
   "metadata": {},
   "outputs": [
    {
     "name": "stdout",
     "output_type": "stream",
     "text": [
      "Optimization terminated successfully.\n",
      "         Current function value: 0.318210\n",
      "         Iterations 10\n",
      " \n",
      "Logistic model with selected variables\n",
      " \n",
      "                             Results: Logit\n",
      "=========================================================================\n",
      "Model:               Logit                 Pseudo R-squared:  0.448      \n",
      "Dependent Variable:  churn_year_plus1_ind  AIC:               106803.3934\n",
      "Date:                2018-10-25 19:18      BIC:               107665.8900\n",
      "No. Observations:    167549                Log-Likelihood:    -53316.    \n",
      "Df Model:            85                    LL-Null:           -96580.    \n",
      "Df Residuals:        167463                LLR p-value:       0.0000     \n",
      "Converged:           1.0000                Scale:             1.0000     \n",
      "No. Iterations:      10.0000                                             \n",
      "-------------------------------------------------------------------------\n",
      "                          Coef.  Std.Err.    z     P>|z|   [0.025  0.975]\n",
      "-------------------------------------------------------------------------\n",
      "const                    -2.1307   0.0786 -27.1050 0.0000 -2.2848 -1.9767\n",
      "emailable                -0.1903   0.0167 -11.3892 0.0000 -0.2231 -0.1576\n",
      "solicit_ph_ind           -0.0592   0.0266  -2.2223 0.0263 -0.1114 -0.0070\n",
      "fixd_incm_flg            -0.0689   0.0266  -2.5856 0.0097 -0.1211 -0.0167\n",
      "scheduled_purchase_flg   -4.8477   0.0766 -63.2532 0.0000 -4.9979 -4.6975\n",
      "months_since_last_trans   0.4351   0.0029 150.5115 0.0000  0.4294  0.4408\n",
      "months_since_first_trans -0.0044   0.0002 -24.4818 0.0000 -0.0047 -0.0040\n",
      "purch_avg_interval        0.0069   0.0007   9.1423 0.0000  0.0054  0.0083\n",
      "mail_cnt_36mo            -0.0142   0.0010 -14.9098 0.0000 -0.0161 -0.0123\n",
      "call_in_mo_36mo          -0.0013   0.0002  -6.6598 0.0000 -0.0017 -0.0009\n",
      "call_out_mo_36mo         -0.0298   0.0046  -6.4596 0.0000 -0.0389 -0.0208\n",
      "log_resp_cnt_36mo        -0.1535   0.0264  -5.8204 0.0000 -0.2052 -0.1018\n",
      "perc_purch_cc_36mo        0.9172   0.0231  39.7363 0.0000  0.8720  0.9625\n",
      "perc_purch_et_36mo        1.3751   0.0402  34.2252 0.0000  1.2963  1.4538\n",
      "margin_Y_neg_1           -0.0000   0.0000  -2.8005 0.0051 -0.0001 -0.0000\n",
      "margin_Y_neg_2           -0.0000   0.0000  -0.4843 0.6282 -0.0000  0.0000\n",
      "demog_span                0.0711   0.0661   1.0762 0.2819 -0.0584  0.2006\n",
      "demog_generations         0.0528   0.0162   3.2497 0.0012  0.0209  0.0846\n",
      "demog_adults             -0.0261   0.0117  -2.2323 0.0256 -0.0489 -0.0032\n",
      "demog_log_num            -0.0012   0.0001 -11.4543 0.0000 -0.0014 -0.0010\n",
      "ST_AE                     0.8369   0.5587   1.4979 0.1342 -0.2581  1.9320\n",
      "ST_AK                    -0.0725   0.1680  -0.4317 0.6659 -0.4017  0.2567\n",
      "ST_AL                     0.2387   0.0803   2.9735 0.0029  0.0814  0.3960\n",
      "ST_AP                    -1.2595   0.9330  -1.3500 0.1770 -3.0882  0.5691\n",
      "ST_AR                     0.2608   0.1042   2.5039 0.0123  0.0567  0.4650\n",
      "ST_AZ                     0.0818   0.0810   1.0101 0.3124 -0.0769  0.2406\n",
      "ST_CA                     0.1228   0.0661   1.8572 0.0633 -0.0068  0.2523\n",
      "ST_CO                     0.0975   0.0930   1.0491 0.2941 -0.0847  0.2798\n",
      "ST_CT                     0.0967   0.1155   0.8377 0.4022 -0.1296  0.3231\n",
      "ST_DC                    -0.1513   0.2584  -0.5857 0.5581 -0.6578  0.3551\n",
      "ST_DE                     0.0649   0.1483   0.4373 0.6619 -0.2259  0.3556\n",
      "ST_FL                     0.1550   0.0677   2.2901 0.0220  0.0223  0.2876\n",
      "ST_GA                     0.1848   0.0709   2.6071 0.0091  0.0459  0.3238\n",
      "ST_HI                     0.0259   0.1302   0.1988 0.8424 -0.2293  0.2811\n",
      "ST_IA                     0.2402   0.1173   2.0471 0.0406  0.0102  0.4702\n",
      "ST_IL                     0.0891   0.0754   1.1824 0.2371 -0.0586  0.2368\n",
      "ST_IN                     0.2106   0.0784   2.6847 0.0073  0.0568  0.3643\n",
      "ST_KS                     0.0919   0.0921   0.9976 0.3185 -0.0886  0.2724\n",
      "ST_KY                     0.1052   0.0864   1.2175 0.2234 -0.0641  0.2745\n",
      "ST_LA                     0.1794   0.0789   2.2731 0.0230  0.0247  0.3340\n",
      "ST_MA                     0.2373   0.0990   2.3974 0.0165  0.0433  0.4312\n",
      "ST_MD                     0.1448   0.0825   1.7557 0.0791 -0.0168  0.3065\n",
      "ST_ME                     0.0692   0.1943   0.3562 0.7217 -0.3116  0.4500\n",
      "ST_MI                     0.1067   0.0776   1.3745 0.1693 -0.0454  0.2588\n",
      "ST_MN                     0.0840   0.0952   0.8828 0.3773 -0.1025  0.2705\n",
      "ST_MO                     0.2235   0.0802   2.7852 0.0053  0.0662  0.3808\n",
      "ST_MS                     0.2772   0.1064   2.6046 0.0092  0.0686  0.4858\n",
      "ST_MT                     0.1273   0.1350   0.9430 0.3457 -0.1372  0.3918\n",
      "ST_NC                     0.2162   0.0704   3.0699 0.0021  0.0782  0.3543\n",
      "ST_ND                     0.0559   0.1808   0.3095 0.7570 -0.2984  0.4103\n",
      "ST_NE                     0.0574   0.1486   0.3861 0.6995 -0.2339  0.3486\n",
      "ST_NH                    -0.2917   0.2284  -1.2770 0.2016 -0.7395  0.1560\n",
      "ST_NJ                    -0.1035   0.0845  -1.2249 0.2206 -0.2691  0.0621\n",
      "ST_NM                     0.0492   0.0966   0.5091 0.6107 -0.1402  0.2386\n",
      "ST_NV                     0.2047   0.1266   1.6169 0.1059 -0.0434  0.4529\n",
      "ST_NY                     0.0584   0.0719   0.8124 0.4166 -0.0826  0.1994\n",
      "ST_OH                     0.1180   0.0730   1.6169 0.1059 -0.0250  0.2610\n",
      "ST_OK                     0.1491   0.0897   1.6618 0.0966 -0.0267  0.3249\n",
      "ST_OR                    -0.0046   0.0804  -0.0566 0.9548 -0.1622  0.1531\n",
      "ST_PA                     0.0308   0.0703   0.4376 0.6617 -0.1070  0.1685\n",
      "ST_PR                    -0.1480   0.2954  -0.5010 0.6164 -0.7269  0.4310\n",
      "ST_RI                     0.3553   0.1236   2.8753 0.0040  0.1131  0.5974\n",
      "ST_SC                     0.1083   0.0826   1.3108 0.1899 -0.0536  0.2702\n",
      "ST_SD                     0.1762   0.1833   0.9614 0.3364 -0.1831  0.5355\n",
      "ST_TN                     0.1619   0.0754   2.1470 0.0318  0.0141  0.3097\n",
      "ST_TX                     0.1279   0.0661   1.9356 0.0529 -0.0016  0.2573\n",
      "ST_UT                     0.2723   0.2230   1.2212 0.2220 -0.1647  0.7094\n",
      "ST_VA                     0.1392   0.0716   1.9445 0.0518 -0.0011  0.2794\n",
      "ST_VI                    -0.1507   0.3258  -0.4626 0.6437 -0.7892  0.4878\n",
      "ST_VT                     0.3441   0.3241   1.0617 0.2884 -0.2911  0.9793\n",
      "ST_WA                     0.0151   0.0788   0.1911 0.8484 -0.1394  0.1695\n",
      "ST_WV                     0.1464   0.1040   1.4077 0.1592 -0.0574  0.3501\n",
      "ST_WY                    -0.0849   0.1946  -0.4363 0.6626 -0.4663  0.2965\n",
      "ST_missing                0.4783   0.1293   3.6983 0.0002  0.2248  0.7317\n",
      "tier_2-Silver             0.1843   0.0279   6.5958 0.0000  0.1295  0.2391\n",
      "tier_3-Gold               0.1981   0.0357   5.5564 0.0000  0.1282  0.2680\n",
      "tier_4-Platinum           0.0823   0.0757   1.0865 0.2773 -0.0661  0.2307\n",
      "tier_5-Diamond            0.0493   0.0908   0.5432 0.5870 -0.1287  0.2274\n",
      "tier_prev_2-Silver       -0.0783   0.0487  -1.6071 0.1080 -0.1738  0.0172\n",
      "tier_prev_3-Gold         -0.0164   0.0695  -0.2362 0.8132 -0.1526  0.1197\n",
      "tier_prev_4-Platinum     -0.2023   0.1141  -1.7728 0.0763 -0.4260  0.0214\n",
      "tier_prev_5-Diamond      -0.0018   0.1462  -0.0126 0.9899 -0.2885  0.2848\n",
      "tier_prev_xxx             0.3953   0.0299  13.2054 0.0000  0.3367  0.4540\n",
      "demog_ownrent_trans_DR    0.0826   0.0503   1.6401 0.1010 -0.0161  0.1812\n",
      "demog_ownrent_trans_PO    0.0871   0.0581   1.5001 0.1336 -0.0267  0.2009\n",
      "demog_ownrent_trans_PR    0.0264   0.0492   0.5363 0.5918 -0.0700  0.1227\n",
      "=========================================================================\n",
      "\n",
      "AIC:  106803.3933718724\n",
      "BIC:  107665.89004860348\n"
     ]
    }
   ],
   "source": [
    "\"\"\" for the statsmodels, need to add a constant to fit intercept \"\"\"\n",
    "\n",
    "x_train_selected_df = sm.add_constant(x_train_selected_df, has_constant='add')\n",
    "x_test_selected_df  = sm.add_constant(x_test_selected_df, has_constant='add')\n",
    "\n",
    "\"\"\" modeling with selected variables from steps above \"\"\"\n",
    "\n",
    "model = sm.Logit(y_train_df, x_train_selected_df)\n",
    "result = model.fit(maxiter=100)\n",
    "\n",
    "print(\" \") \n",
    "print(\"Logistic model with selected variables\")\n",
    "print(\" \") \n",
    "print(result.summary2())\n",
    "print('AIC: ', result.aic)\n",
    "print('BIC: ', result.bic)"
   ]
  },
  {
   "cell_type": "markdown",
   "metadata": {},
   "source": [
    "## Using the statsmodels Logit model to score the data and evaluate goodness-of-fit:"
   ]
  },
  {
   "cell_type": "code",
   "execution_count": 16,
   "metadata": {},
   "outputs": [
    {
     "name": "stdout",
     "output_type": "stream",
     "text": [
      "AROC train:  0.9186239546492114\n",
      "AROC test:  0.9199807634033749\n",
      " \n",
      "MSE train: 0.10027718945526383\n",
      "MSE test: 0.09986824633043681\n",
      " \n",
      "testing that the joining process works. if so, these MSE should match the ones above.\n",
      "mean squared error train: 0.10027718945526413\n",
      "mean squared error testn: 0.09986824633043775\n"
     ]
    },
    {
     "data": {
      "text/plain": [
       "<matplotlib.axes._subplots.AxesSubplot at 0x273800a2dd8>"
      ]
     },
     "execution_count": 16,
     "metadata": {},
     "output_type": "execute_result"
    },
    {
     "data": {
      "image/png": "[encoded data removed]",
      "text/plain": [
       "<Figure size 1080x1080 with 1 Axes>"
      ]
     },
     "metadata": {
      "needs_background": "light"
     },
     "output_type": "display_data"
    }
   ],
   "source": [
    "\"\"\" predicted values using the model \"\"\"\n",
    "\"\"\" using numpy copy to store result as an array \"\"\"\n",
    "\"\"\" manually adding a column header \"\"\"\n",
    "predict_train = pd.DataFrame(np.copy(result.predict(x_train_selected_df)), columns=[\"P_churn_year_plus1_ind\"])\n",
    "predict_test = pd.DataFrame(np.copy(result.predict(x_test_selected_df)), columns=[\"P_churn_year_plus1_ind\"])\n",
    "\n",
    "print ('AROC train: ', metrics.roc_auc_score(y_train_df, predict_train))\n",
    "print ('AROC test: ', metrics.roc_auc_score(y_test_df, predict_test))\n",
    "\n",
    "\"\"\" note that the index for the predicted values vector \"\"\"\n",
    "\"\"\" is reset, and thus complicates a join back with the original \"\"\"\n",
    "\"\"\" thus, reset the index on the original data, then join with predicted \"\"\"\n",
    "\"\"\" WARNING: you have to do the same, to join back with dataframe of regressors \"\"\"\n",
    "y_train_df = y_train_df.reset_index(drop=True)\n",
    "y_test_df = y_test_df.reset_index(drop=True)\n",
    "\n",
    "\"\"\" joining predicted and actuals \"\"\"\n",
    "\"\"\" NOTE:  for reference, for now...to be used more later to create complete \"\"\"\n",
    "\"\"\"     dataframe with all obs and inputs and outputs \"\"\"\n",
    "train_accounts = train_acct_IDs_df.reset_index(drop=True)\n",
    "pred_v_actual_train = y_train_df.join(predict_train)\n",
    "pred_v_actual_train = pred_v_actual_train.join(train_accounts)\n",
    "\n",
    "test_accounts = test_acct_IDs_df.reset_index(drop=True)\n",
    "pred_v_actual_test = y_test_df.join(predict_test)\n",
    "pred_v_actual_test = pred_v_actual_test.join(test_accounts)\n",
    "\n",
    "print(\" \") \n",
    "print(\"MSE train:\", mean_squared_error(y_train_df, predict_train))\n",
    "print(\"MSE test:\", mean_squared_error(y_test_df, predict_test))\n",
    "\n",
    "print(\" \") \n",
    "print(\"testing that the joining process works. if so, these MSE should match the ones above.\")\n",
    "print(\"mean squared error train:\" , (np.mean((pred_v_actual_train['churn_year_plus1_ind']-pred_v_actual_train['P_churn_year_plus1_ind'])**2)))\n",
    "print(\"mean squared error testn:\" , (np.mean((pred_v_actual_test['churn_year_plus1_ind']-pred_v_actual_test['P_churn_year_plus1_ind'])**2)))\n",
    "\n",
    "pred_v_actual_test.boxplot(column='P_churn_year_plus1_ind', by='churn_year_plus1_ind',figsize=(15,15))"
   ]
  },
  {
   "cell_type": "markdown",
   "metadata": {},
   "source": [
    "## Now to try a more advanced Machine Learning algorithm to see if we can get a better model:"
   ]
  },
  {
   "cell_type": "code",
   "execution_count": 17,
   "metadata": {},
   "outputs": [
    {
     "name": "stdout",
     "output_type": "stream",
     "text": [
      "GB overall accuracy: 0.8798028047404849\n",
      "AROC train:  0.9385284400102851\n",
      "AROC test:  0.9367513009435348\n",
      " \n",
      "MSE train: 0.08621520879603704\n",
      "MSE test: 0.08706274566447907\n",
      " \n",
      "testing that the joining process works. if so, these MSE should match the ones above.\n",
      "mean squared error train: 0.08621520879603754\n",
      "mean squared error test: 0.08706274566447994\n"
     ]
    },
    {
     "data": {
      "text/plain": [
       "Text(0,0.5,'AROC')"
      ]
     },
     "execution_count": 17,
     "metadata": {},
     "output_type": "execute_result"
    },
    {
     "data": {
      "image/png": "[encoded data removed]",
      "text/plain": [
       "<Figure size 1080x1080 with 1 Axes>"
      ]
     },
     "metadata": {
      "needs_background": "light"
     },
     "output_type": "display_data"
    },
    {
     "data": {
      "image/png": "[encoded data removed]",
      "text/plain": [
       "<Figure size 1080x1080 with 1 Axes>"
      ]
     },
     "metadata": {
      "needs_background": "light"
     },
     "output_type": "display_data"
    }
   ],
   "source": [
    "\"\"\" Gradient Boosting \"\"\"\n",
    "params = {'n_estimators': 500, 'min_samples_split': 2,  'max_depth': 5, 'learning_rate': 0.01}\n",
    "model2 = GradientBoostingClassifier(**params)\n",
    "\n",
    "\"\"\" had to switch the order of X and Y for the fit to work with GradientBoosting \"\"\"\n",
    "result = model2.fit(x_train_selected_df, y_train_array)\n",
    "\n",
    "\"\"\" returns overall accuracy\"\"\"\n",
    "accuracy = model2.score(x_test_selected_df, y_test_df)\n",
    "print(\"GB overall accuracy:\", accuracy)\n",
    "\n",
    "\"\"\" predicted values using the model \"\"\"\n",
    "\"\"\" using numpy copy to store result as an array \"\"\"\n",
    "\"\"\" manually adding a column header \"\"\"\n",
    "predict_train = pd.DataFrame(np.copy(model2.predict_proba(x_train_selected_df)[:, 1]), columns=[\"P_churn_year_plus1_ind\"])\n",
    "predict_test = pd.DataFrame(np.copy(model2.predict_proba(x_test_selected_df)[:, 1]), columns=[\"P_churn_year_plus1_ind\"])\n",
    "\n",
    "print ('AROC train: ', metrics.roc_auc_score(y_train_df, predict_train))\n",
    "print ('AROC test: ', metrics.roc_auc_score(y_test_df, predict_test))\n",
    "\n",
    "\"\"\" note that the index for the predicted values vector \"\"\"\n",
    "\"\"\" is reset, and thus complicates a join back with the original \"\"\"\n",
    "\"\"\" thus, reset the index on the original data, then join with predicted \"\"\"\n",
    "\"\"\" WARNING: you have to do the same, to join back with dataframe of regressors \"\"\"\n",
    "y_train_df = y_train_df.reset_index(drop=True)\n",
    "y_test_df = y_test_df.reset_index(drop=True)\n",
    "\n",
    "train_accounts = train_acct_IDs_df.reset_index(drop=True)\n",
    "pred_v_actual_train = y_train_df.join(predict_train)\n",
    "pred_v_actual_train = pred_v_actual_train.join(train_accounts)\n",
    "\n",
    "\n",
    "test_accounts = test_acct_IDs_df.reset_index(drop=True)\n",
    "pred_v_actual_test = y_test_df.join(predict_test)\n",
    "pred_v_actual_test = pred_v_actual_test.join(test_accounts)\n",
    "\n",
    "print(\" \") \n",
    "print(\"MSE train:\", mean_squared_error(y_train_df, predict_train))\n",
    "print(\"MSE test:\", mean_squared_error(y_test_df, predict_test))\n",
    "\n",
    "print(\" \") \n",
    "print(\"testing that the joining process works. if so, these MSE should match the ones above.\")\n",
    "print(\"mean squared error train:\" , (np.mean((pred_v_actual_train['churn_year_plus1_ind']-pred_v_actual_train['P_churn_year_plus1_ind'])**2)))\n",
    "print(\"mean squared error test:\" , (np.mean((pred_v_actual_test['churn_year_plus1_ind']-pred_v_actual_test['P_churn_year_plus1_ind'])**2)))\n",
    "\n",
    "\n",
    "pred_v_actual_test.boxplot(column='P_churn_year_plus1_ind', by='churn_year_plus1_ind',figsize=(15,15))\n",
    "\n",
    "\"\"\" plotting AROC with each iteration of the Gradient Boosting algorithm \"\"\"\n",
    "\n",
    "\"\"\" converting Y dataframes into arrays as needed for logic below \"\"\"\n",
    "y_traint_array = y_train_df.values\n",
    "y_test_array = y_test_df.values\n",
    "\n",
    "test_AROC  = np.zeros((params['n_estimators'],), dtype=np.float64)\n",
    "train_AROC = np.zeros((params['n_estimators'],), dtype=np.float64)\n",
    "\n",
    "for i, y_pred in enumerate(model2.staged_predict_proba(x_test_selected_df)):\n",
    "    test_AROC[i] = metrics.roc_auc_score(y_test_array, y_pred[:, 1])\n",
    "\n",
    "for i, y_pred in enumerate(model2.staged_predict_proba(x_train_selected_df)):\n",
    "    train_AROC[i] = metrics.roc_auc_score(y_train_array, y_pred[:, 1])\n",
    "\n",
    "plt.figure(figsize=(15,15))\n",
    "plt.subplot(1, 2, 1)\n",
    "plt.title('AROC by iteration')\n",
    "plt.plot(np.arange(params['n_estimators']) + 1, train_AROC, 'b-',\n",
    "         label='Training Set AROC')\n",
    "plt.plot(np.arange(params['n_estimators']) + 1, test_AROC, 'r-',\n",
    "         label='Test Set AROC')\n",
    "plt.legend(loc='upper right')\n",
    "plt.xlabel('Boosting Iterations')\n",
    "plt.ylabel('AROC')\n"
   ]
  },
  {
   "cell_type": "markdown",
   "metadata": {},
   "source": [
    "## Feature Importance for the Gradient Boosting Model:"
   ]
  },
  {
   "cell_type": "code",
   "execution_count": 18,
   "metadata": {},
   "outputs": [
    {
     "data": {
      "image/png": "[encoded data removed]",
      "text/plain": [
       "<Figure size 3600x3600 with 1 Axes>"
      ]
     },
     "metadata": {
      "needs_background": "light"
     },
     "output_type": "display_data"
    }
   ],
   "source": [
    "feature_importance = model2.feature_importances_\n",
    "\"\"\" make importances relative to max importance \"\"\"\n",
    "feature_importance = 100.0 * (feature_importance / feature_importance.max())\n",
    "sorted_idx = np.argsort(feature_importance)\n",
    "pos = np.arange(sorted_idx.shape[0]) + .5\n",
    "plt.figure(figsize=(50,50))\n",
    "plt.subplot(1, 2, 2)\n",
    "plt.barh(pos, feature_importance[sorted_idx], align='center')\n",
    "plt.yticks(pos, x_train_selected_df.columns[sorted_idx])\n",
    "plt.xlabel('Relative Importance')\n",
    "plt.title('Variable Importance')\n",
    "plt.show()"
   ]
  },
  {
   "cell_type": "markdown",
   "metadata": {},
   "source": [
    "## Appending the train and test sets, and keeping the acct_IDs and predicted churn probabilities"
   ]
  },
  {
   "cell_type": "code",
   "execution_count": 20,
   "metadata": {},
   "outputs": [
    {
     "name": "stderr",
     "output_type": "stream",
     "text": [
      "C:\\Users\\arunr\\Anaconda3\\lib\\site-packages\\pandas\\core\\frame.py:6211: FutureWarning: Sorting because non-concatenation axis is not aligned. A future version\n",
      "of pandas will change to not sort by default.\n",
      "\n",
      "To accept the future behavior, pass 'sort=False'.\n",
      "\n",
      "To retain the current behavior and silence the warning, pass 'sort=True'.\n",
      "\n",
      "  sort=sort)\n"
     ]
    },
    {
     "data": {
      "text/plain": [
       "(311163, 2)"
      ]
     },
     "execution_count": 20,
     "metadata": {},
     "output_type": "execute_result"
    }
   ],
   "source": [
    "\"\"\" append together train and test predicted values, keeping only acct ID and predicted values \"\"\"\n",
    "\n",
    "pred_v_actual_train=pred_v_actual_train.append(pred_v_actual_test, ignore_index=True)\n",
    "\n",
    "pred_v_actual_train = pred_v_actual_train.drop(['churn_year_plus1_ind'\n",
    "                             ],axis=1)\n",
    "\n",
    "\"\"\" and then save predicted values by acct ID to csv \"\"\"\n",
    "\n",
    "pred_v_actual_train.to_csv('C:\\\\Business Analytics\\\\3rd Sem\\\\CLV\\\\Team Project\\\\Team Project\\\\churn_scores.csv',index=False)\n",
    "pred_v_actual_train.shape"
   ]
  },
  {
   "cell_type": "markdown",
   "metadata": {},
   "source": [
    "## (back to lecture mode)"
   ]
  }
 ],
 "metadata": {
  "kernelspec": {
   "display_name": "Python 3",
   "language": "python",
   "name": "python3"
  },
  "language_info": {
   "codemirror_mode": {
    "name": "ipython",
    "version": 3
   },
   "file_extension": ".py",
   "mimetype": "text/x-python",
   "name": "python",
   "nbconvert_exporter": "python",
   "pygments_lexer": "ipython3",
   "version": "3.7.0"
  }
 },
 "nbformat": 4,
 "nbformat_minor": 2
}
